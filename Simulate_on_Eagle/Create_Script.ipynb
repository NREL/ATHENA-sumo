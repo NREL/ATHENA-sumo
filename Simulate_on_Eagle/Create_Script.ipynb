{
 "cells": [
  {
   "cell_type": "code",
   "execution_count": 17,
   "metadata": {},
   "outputs": [],
   "source": [
    "import time"
   ]
  },
  {
   "cell_type": "markdown",
   "metadata": {},
   "source": [
    "## Change the parameters below to match your simulation scenarios"
   ]
  },
  {
   "cell_type": "code",
   "execution_count": 18,
   "metadata": {},
   "outputs": [],
   "source": [
    "time_in_hours = 2    # Run time of job on eagle, float\n",
    "begin_year = 6   # first year to be simulated, integer\n",
    "end_year = 10      # last eyar to be simulated, integer\n",
    "trip_file_prefix = '2017-10-17'     # Should be the date of the day you are simulating"
   ]
  },
  {
   "cell_type": "markdown",
   "metadata": {},
   "source": [
    "## Don't change the parameters below"
   ]
  },
  {
   "cell_type": "code",
   "execution_count": 19,
   "metadata": {},
   "outputs": [],
   "source": [
    "account = 'athena'    # account allocation on Eagle\n",
    "sumo_loc = 'SUMO_HOME=/projects/athena/sumo-installation/dist/sumo-git' #Location of SUMO installation on Eagle\n",
    "number_nodes = end_year - begin_year + 1  # number of nodes to be requested, integer. Should be equal to number of years to be simulated.\n",
    "scale_factor = 0.03  # Increase in demand per year\n",
    "job_name='year_'+str(begin_year)+'_'+str(end_year)    # Job name on Eagle, useful for differentiating jobs when running multiple jobs\n",
    "out_file = 'year_'+str(begin_year)+'_' + str(end_year)+'.log'   # file to log output from simulation runs "
   ]
  },
  {
   "cell_type": "markdown",
   "metadata": {},
   "source": [
    "## If you set up your work directory as shown in the README, you should not have to change the parameters below"
   ]
  },
  {
   "cell_type": "code",
   "execution_count": 20,
   "metadata": {},
   "outputs": [],
   "source": [
    "network_file = '../NetFiles/DFW2.net.xml'   # Relative path to network file from ScriptFiles folder\n",
    "trip_folder = '../TripFiles/'      # Relative path to trip file folder from ScriptFiles folder\n",
    "add_file = '../AddFiles/additional_2020-03-25.xml'   # Relative path of additional file from ScriptFiles folder\n",
    "output_folder = '../output'    # Relative path to output folder from ScriptFiles folder\n",
    "add_folder = '../AddFiles/'    # Relative path to additional files folder\n",
    "out_file_prefix = 'get_edge_out_year_'   # prefix of additional file that request output file"
   ]
  },
  {
   "cell_type": "markdown",
   "metadata": {},
   "source": [
    "## Creating the script files"
   ]
  },
  {
   "cell_type": "code",
   "execution_count": 21,
   "metadata": {},
   "outputs": [],
   "source": [
    "# First add the instructions for job allocation\n",
    "if begin_year == end_year: script_file = \"run_sims_\"+ str(begin_year) + '.slurm'\n",
    "else: script_file = \"run_sims_\"+ str(begin_year) + '_' + str(end_year)+'.slurm'\n",
    "\n",
    "file = open(script_file, \"w\")\n",
    "file.write(\"#!/usr/bin/env bash\\n\")\n",
    "file.write(\"#SBATCH --job-name=year_\" + str(begin_year) + '_'+ str(end_year) +'\\n')\n",
    "file.write(\"#SBATCH --output=sims_\" + str(begin_year) + '_'+ str(end_year) +'\\n')\n",
    "file.write(\"#SBATCH --account=athena\\n\")\n",
    "time_string = time.strftime('%H:%M:%S', time.gmtime(time_in_hours*3600))\n",
    "file.write(\"#SBATCH --time=\"+ time_string + \"\\n\")\n",
    "file.write(\"#SBATCH --nodes=\" + str(number_nodes) + '\\n')\n",
    "file.write(\"\\n\")\n",
    "file.write(\"export \" + sumo_loc + \"\\n\")\n",
    "file.write(\"\\n\")\n",
    "\n",
    "# Adding srun commands to execute jobs in parallel\n",
    "i = 1\n",
    "for y in range(begin_year, end_year+1):\n",
    "    scaling= (1+scale_factor)**y\n",
    "    suffix = int(round(100*(scaling-1)))\n",
    "\n",
    "    if y == 0: trip_file = trip_folder + trip_file_prefix + '.trips.xml'\n",
    "    else: trip_file = trip_folder + trip_file_prefix + '.Scaled'+str(suffix)+'%.trips.xml'\n",
    "\n",
    "    file.write('srun -N 1 $SUMO_HOME/bin/sumo -n ' + network_file + ' -r ' + trip_file\n",
    "               + ' -e 86400 -a ' + add_file + ','+ add_folder +  out_file_prefix + str(y)\n",
    "           + '.xml' + ' --tripinfo-output ' + output_folder + '/year_' + str(y)+ '_trip_outputs.xml' + \n",
    "           ' --eager-insert t --summary ' + output_folder + '/year_' + str(y) + '_summary.xml' + \n",
    "               ' --time-to-teleport -1')\n",
    "    if end_year > begin_year: file.write(' &\\n')\n",
    "    else: file.write('\\n')\n",
    "    file.write('\\n')\n",
    "    \n",
    "    \n",
    "if end_year > begin_year: file.write('wait\\n')\n",
    "file.close()\n"
   ]
  }
 ],
 "metadata": {
  "kernelspec": {
   "display_name": "Python 3",
   "language": "python",
   "name": "python3"
  },
  "language_info": {
   "codemirror_mode": {
    "name": "ipython",
    "version": 3
   },
   "file_extension": ".py",
   "mimetype": "text/x-python",
   "name": "python",
   "nbconvert_exporter": "python",
   "pygments_lexer": "ipython3",
   "version": "3.7.6"
  }
 },
 "nbformat": 4,
 "nbformat_minor": 4
}
