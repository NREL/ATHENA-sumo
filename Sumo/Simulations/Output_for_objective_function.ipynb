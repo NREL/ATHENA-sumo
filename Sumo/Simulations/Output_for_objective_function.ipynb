{
 "cells": [
  {
   "cell_type": "code",
   "execution_count": 419,
   "metadata": {},
   "outputs": [],
   "source": [
    "import pandas as pd\n",
    "import matplotlib.pyplot as plt\n",
    "import numpy as np\n",
    "import seaborn as sns\n",
    "import time\n",
    "import sys \n",
    "%matplotlib inline\n",
    "import warnings\n",
    "warnings.filterwarnings('ignore')"
   ]
  },
  {
   "cell_type": "code",
   "execution_count": 420,
   "metadata": {},
   "outputs": [
    {
     "name": "stdout",
     "output_type": "stream",
     "text": [
      "stop_output_high.csv stop_output_med.csv  trip_output_low.csv\r\n",
      "stop_output_low.csv  trip_output_high.csv trip_output_med.csv\r\n"
     ]
    }
   ],
   "source": [
    "!cd OutputData && ls"
   ]
  },
  {
   "cell_type": "code",
   "execution_count": 421,
   "metadata": {},
   "outputs": [],
   "source": [
    "trip = pd.read_csv(\"OutputData/trip_output_high.csv\", sep=\";\")\n",
    "stop = pd.read_csv(\"OutputData/stop_output_high.csv\", sep=\";\")\n",
    "# trip = pd.read_csv(\"OutputData/trip_output_med.csv\", sep=\";\")\n",
    "# stop = pd.read_csv(\"OutputData/stop_output_med.csv\", sep=\";\")\n",
    "# trip = pd.read_csv(\"OutputData/trip_output_low.csv\", sep=\";\")\n",
    "# stop = pd.read_csv(\"OutputData/stop_output_low.csv\", sep=\";\")"
   ]
  },
  {
   "cell_type": "code",
   "execution_count": 422,
   "metadata": {},
   "outputs": [],
   "source": [
    "#global variables\n",
    "AM = [4,9]\n",
    "MID = [9,15]\n",
    "PM = [15,18]\n"
   ]
  },
  {
   "cell_type": "markdown",
   "metadata": {},
   "source": [
    "# Cleaning and Processing the Data"
   ]
  },
  {
   "cell_type": "code",
   "execution_count": 423,
   "metadata": {},
   "outputs": [],
   "source": [
    "bus = stop.loc[stop['stopinfo_type'] == 'bus']\n",
    "bus.reset_index(inplace=True,drop=True)\n",
    "bus['time_start'] = bus['stopinfo_started'].apply(lambda x: time.strftime('%H:%M:%S', time.gmtime(int(x))))\n",
    "bus['time_end'] = bus['stopinfo_ended'].apply(lambda x: time.strftime('%H:%M:%S', time.gmtime(int(x))))\n",
    "bus['hour_start'] = bus['stopinfo_started'].apply(lambda x: time.strftime('%H', time.gmtime(int(x))))\n",
    "bus['hour_end'] = bus['stopinfo_ended'].apply(lambda x: time.strftime('%H', time.gmtime(int(x))))\n",
    "bus['length_duration'] = bus['stopinfo_ended'].values - bus['stopinfo_started'].values\n",
    "stop_name = []\n",
    "for name in bus['stopinfo_busStop']:\n",
    "    if name[0] == \"R\":\n",
    "        stop = name[:9]\n",
    "        stop_name.append(stop)\n",
    "    else:\n",
    "        stop = name[0]\n",
    "        stop_name.append(stop)\n",
    "bus['stop_name'] = stop_name\n",
    "\n",
    "bus_names = bus['stopinfo_id'].unique()\n",
    "dictionary = {}\n",
    "for b in bus_names:\n",
    "    tmp = bus.loc[bus['stopinfo_id'] == b]\n",
    "    \n",
    "    tmp.reset_index(inplace=True,drop=True)\n",
    "    \n",
    "    for i, row in enumerate(tmp['stop_name']):\n",
    "        try:\n",
    "            route = row + \"_To_\" + tmp['stop_name'][i+1]\n",
    "            route_duration = tmp['stopinfo_ended'][i+1] - tmp['stopinfo_ended'][i]\n",
    "            hour = tmp['hour_end'][i+1]\n",
    "            if route not in dictionary:\n",
    "                dictionary[route] = {\"route_duration\":[],\"hour\":[],\"terminal\":[]}\n",
    "                dictionary[route][\"route_duration\"].append(route_duration)\n",
    "                dictionary[route]['hour'].append(hour)\n",
    "                dictionary[route]['terminal'].append(b[0])\n",
    "            else:\n",
    "                dictionary[route][\"route_duration\"].append(route_duration)\n",
    "                dictionary[route]['hour'].append(hour)\n",
    "                dictionary[route]['terminal'].append(b[0])\n",
    "        except:\n",
    "            pass\n",
    "dframes = {}\n",
    "for key in dictionary:\n",
    "    dframes[key] = pd.DataFrame()\n",
    "    dframes[key][\"Travel_time\"] = dictionary[key][\"route_duration\"]\n",
    "    dframes[key][\"Hour\"] = dictionary[key][\"hour\"]\n",
    "    dframes[key][\"terminal\"] = dictionary[key][\"terminal\"]\n",
    "\n",
    "\n",
    "bus_fuel = trip.loc[trip['tripinfo_vType']==\"bus\"]\n",
    "bus_fuel.reset_index(drop=True,inplace=True)\n",
    "bus_fuel['Terminal'] = bus_fuel['tripinfo_id'].apply(lambda x: x[0])\n",
    "bus_fuel['gallons'] = bus_fuel['emissions_fuel_abs'].values * 0.000264172\n",
    "bus_fuel = bus_fuel[['gallons','tripinfo_duration','tripinfo_id','Terminal','tripinfo_routeLength']].groupby('Terminal').mean()\n",
    "bus_fuel['Terminal'] = bus_fuel.index\n",
    "bus_fuel.reset_index(inplace=True,drop=True)\n",
    "number_of_trips = 65\n",
    "for key in dframes:\n",
    "    tmp = dframes[key]\n",
    "    Terminal = dframes[key]['terminal'].unique()[0]\n",
    "    bus_data = bus_fuel.loc[bus_fuel['Terminal'] == Terminal]\n",
    "    Total_gallons = bus_data['gallons'].item()\n",
    "    Duration = bus_data['tripinfo_duration'].item() \n",
    "    Distance = bus_data['tripinfo_routeLength'].item() * 0.000621371\n",
    "    Fuel_usage = []\n",
    "    distance = []\n",
    "    \n",
    "    for time in tmp['Travel_time']:\n",
    "        percent_of_trip = time/Duration\n",
    "        Fuel = Total_gallons * percent_of_trip\n",
    "        Fuel_usage.append(Fuel)\n",
    "        distance_of_trip = Distance - .55\n",
    "        distance.append(distance_of_trip)\n",
    "    dframes[key]['Fuel_usage_gallons'] = Fuel_usage\n",
    "    dframes[key]['Distance_miles'] = distance"
   ]
  },
  {
   "cell_type": "code",
   "execution_count": 424,
   "metadata": {},
   "outputs": [
    {
     "data": {
      "text/html": [
       "<div>\n",
       "<style scoped>\n",
       "    .dataframe tbody tr th:only-of-type {\n",
       "        vertical-align: middle;\n",
       "    }\n",
       "\n",
       "    .dataframe tbody tr th {\n",
       "        vertical-align: top;\n",
       "    }\n",
       "\n",
       "    .dataframe thead th {\n",
       "        text-align: right;\n",
       "    }\n",
       "</style>\n",
       "<table border=\"1\" class=\"dataframe\">\n",
       "  <thead>\n",
       "    <tr style=\"text-align: right;\">\n",
       "      <th></th>\n",
       "      <th>gallons</th>\n",
       "      <th>tripinfo_duration</th>\n",
       "      <th>tripinfo_routeLength</th>\n",
       "      <th>Terminal</th>\n",
       "    </tr>\n",
       "  </thead>\n",
       "  <tbody>\n",
       "    <tr>\n",
       "      <th>0</th>\n",
       "      <td>1.101369</td>\n",
       "      <td>768.149476</td>\n",
       "      <td>8373.304231</td>\n",
       "      <td>A</td>\n",
       "    </tr>\n",
       "    <tr>\n",
       "      <th>1</th>\n",
       "      <td>1.087629</td>\n",
       "      <td>723.264860</td>\n",
       "      <td>8307.128531</td>\n",
       "      <td>B</td>\n",
       "    </tr>\n",
       "    <tr>\n",
       "      <th>2</th>\n",
       "      <td>0.998224</td>\n",
       "      <td>730.673951</td>\n",
       "      <td>7449.873077</td>\n",
       "      <td>C</td>\n",
       "    </tr>\n",
       "    <tr>\n",
       "      <th>3</th>\n",
       "      <td>1.049988</td>\n",
       "      <td>740.742133</td>\n",
       "      <td>7983.893392</td>\n",
       "      <td>D</td>\n",
       "    </tr>\n",
       "    <tr>\n",
       "      <th>4</th>\n",
       "      <td>1.075766</td>\n",
       "      <td>711.687937</td>\n",
       "      <td>7830.496469</td>\n",
       "      <td>E</td>\n",
       "    </tr>\n",
       "  </tbody>\n",
       "</table>\n",
       "</div>"
      ],
      "text/plain": [
       "    gallons  tripinfo_duration  tripinfo_routeLength Terminal\n",
       "0  1.101369         768.149476           8373.304231        A\n",
       "1  1.087629         723.264860           8307.128531        B\n",
       "2  0.998224         730.673951           7449.873077        C\n",
       "3  1.049988         740.742133           7983.893392        D\n",
       "4  1.075766         711.687937           7830.496469        E"
      ]
     },
     "execution_count": 424,
     "metadata": {},
     "output_type": "execute_result"
    }
   ],
   "source": [
    "bus_fuel.head()"
   ]
  },
  {
   "cell_type": "code",
   "execution_count": 425,
   "metadata": {},
   "outputs": [
    {
     "data": {
      "text/html": [
       "<div>\n",
       "<style scoped>\n",
       "    .dataframe tbody tr th:only-of-type {\n",
       "        vertical-align: middle;\n",
       "    }\n",
       "\n",
       "    .dataframe tbody tr th {\n",
       "        vertical-align: top;\n",
       "    }\n",
       "\n",
       "    .dataframe thead th {\n",
       "        text-align: right;\n",
       "    }\n",
       "</style>\n",
       "<table border=\"1\" class=\"dataframe\">\n",
       "  <thead>\n",
       "    <tr style=\"text-align: right;\">\n",
       "      <th></th>\n",
       "      <th>Travel_time</th>\n",
       "      <th>Hour</th>\n",
       "      <th>terminal</th>\n",
       "      <th>Fuel_usage_gallons</th>\n",
       "      <th>Distance_miles</th>\n",
       "    </tr>\n",
       "  </thead>\n",
       "  <tbody>\n",
       "    <tr>\n",
       "      <th>0</th>\n",
       "      <td>334.00</td>\n",
       "      <td>00</td>\n",
       "      <td>E</td>\n",
       "      <td>0.504864</td>\n",
       "      <td>4.315643</td>\n",
       "    </tr>\n",
       "    <tr>\n",
       "      <th>1</th>\n",
       "      <td>336.25</td>\n",
       "      <td>00</td>\n",
       "      <td>E</td>\n",
       "      <td>0.508265</td>\n",
       "      <td>4.315643</td>\n",
       "    </tr>\n",
       "    <tr>\n",
       "      <th>2</th>\n",
       "      <td>334.00</td>\n",
       "      <td>00</td>\n",
       "      <td>E</td>\n",
       "      <td>0.504864</td>\n",
       "      <td>4.315643</td>\n",
       "    </tr>\n",
       "    <tr>\n",
       "      <th>3</th>\n",
       "      <td>341.00</td>\n",
       "      <td>01</td>\n",
       "      <td>E</td>\n",
       "      <td>0.515445</td>\n",
       "      <td>4.315643</td>\n",
       "    </tr>\n",
       "    <tr>\n",
       "      <th>4</th>\n",
       "      <td>338.25</td>\n",
       "      <td>01</td>\n",
       "      <td>E</td>\n",
       "      <td>0.511288</td>\n",
       "      <td>4.315643</td>\n",
       "    </tr>\n",
       "  </tbody>\n",
       "</table>\n",
       "</div>"
      ],
      "text/plain": [
       "   Travel_time Hour terminal  Fuel_usage_gallons  Distance_miles\n",
       "0       334.00   00        E            0.504864        4.315643\n",
       "1       336.25   00        E            0.508265        4.315643\n",
       "2       334.00   00        E            0.504864        4.315643\n",
       "3       341.00   01        E            0.515445        4.315643\n",
       "4       338.25   01        E            0.511288        4.315643"
      ]
     },
     "execution_count": 425,
     "metadata": {},
     "output_type": "execute_result"
    }
   ],
   "source": [
    "dframes['RAC_pick_To_E'].head()"
   ]
  },
  {
   "cell_type": "markdown",
   "metadata": {},
   "source": [
    "# Aggregate the Data and get out what you need\n",
    "\n",
    "- When you run this you will need to think about what route you want to \n",
    "  look at. \n",
    "- Here is the function:\n",
    "    * GrabRouteData(start,end):\n",
    "    * start options: < \"A\",\"B\",\"C\",\"D\",\"E\",\"R\" >\n",
    "    * end options: < \"A\",\"B\",\"C\",\"D\",\"E\",\"R\" >\n",
    "         * pointers: \"R\" is refering to the RAC and the other letters \n",
    "         * referring to the other terminals"
   ]
  },
  {
   "cell_type": "code",
   "execution_count": 426,
   "metadata": {},
   "outputs": [],
   "source": [
    "def GrabRouteData(start,end):\n",
    "    options = [\"A\",\"B\",\"C\",\"D\",\"E\",\"R\"]\n",
    "    if (start not in options) or (end not in options):\n",
    "         sys.exit(\"Try again. Use any of these as an option A,B,C,D,E,R\")\n",
    "    if start == \"R\":\n",
    "        start = \"RAC_pick\"\n",
    "    if end == \"R\":\n",
    "        end = \"RAC_drop\"\n",
    "    \n",
    "    route = start + \"_To_\" +end\n",
    "    dframes[route]['hour'] = dframes[route]['Hour'].values\n",
    "    dframes[route]['hour'] = pd.to_numeric(dframes[route]['hour'])\n",
    "    df = cluster_hour(dframes[route],AM,MID,PM)\n",
    "    grp_mean = df.groupby(['time_period']).mean()\n",
    "    grp_std = df.groupby(['time_period']).std()\n",
    "    grp_mean.fillna(0,inplace=True)\n",
    "    grp_std.fillna(0,inplace=True)\n",
    "    \n",
    "       \n",
    "    \n",
    "    return grp_mean, grp_std\n"
   ]
  },
  {
   "cell_type": "code",
   "execution_count": 427,
   "metadata": {},
   "outputs": [
    {
     "data": {
      "text/html": [
       "<div>\n",
       "<style scoped>\n",
       "    .dataframe tbody tr th:only-of-type {\n",
       "        vertical-align: middle;\n",
       "    }\n",
       "\n",
       "    .dataframe tbody tr th {\n",
       "        vertical-align: top;\n",
       "    }\n",
       "\n",
       "    .dataframe thead th {\n",
       "        text-align: right;\n",
       "    }\n",
       "</style>\n",
       "<table border=\"1\" class=\"dataframe\">\n",
       "  <thead>\n",
       "    <tr style=\"text-align: right;\">\n",
       "      <th></th>\n",
       "      <th>Travel_time</th>\n",
       "      <th>Fuel_usage_gallons</th>\n",
       "      <th>Distance_miles</th>\n",
       "      <th>hour</th>\n",
       "    </tr>\n",
       "    <tr>\n",
       "      <th>time_period</th>\n",
       "      <th></th>\n",
       "      <th></th>\n",
       "      <th></th>\n",
       "      <th></th>\n",
       "    </tr>\n",
       "  </thead>\n",
       "  <tbody>\n",
       "    <tr>\n",
       "      <th>am</th>\n",
       "      <td>3.066401</td>\n",
       "      <td>0.004397</td>\n",
       "      <td>0.0</td>\n",
       "      <td>1.750541</td>\n",
       "    </tr>\n",
       "    <tr>\n",
       "      <th>mid</th>\n",
       "      <td>2.617740</td>\n",
       "      <td>0.003753</td>\n",
       "      <td>0.0</td>\n",
       "      <td>1.441153</td>\n",
       "    </tr>\n",
       "    <tr>\n",
       "      <th>op</th>\n",
       "      <td>2.319832</td>\n",
       "      <td>0.003326</td>\n",
       "      <td>0.0</td>\n",
       "      <td>9.762948</td>\n",
       "    </tr>\n",
       "    <tr>\n",
       "      <th>pm</th>\n",
       "      <td>2.805086</td>\n",
       "      <td>0.004022</td>\n",
       "      <td>0.0</td>\n",
       "      <td>1.101946</td>\n",
       "    </tr>\n",
       "  </tbody>\n",
       "</table>\n",
       "</div>"
      ],
      "text/plain": [
       "             Travel_time  Fuel_usage_gallons  Distance_miles      hour\n",
       "time_period                                                           \n",
       "am              3.066401            0.004397             0.0  1.750541\n",
       "mid             2.617740            0.003753             0.0  1.441153\n",
       "op              2.319832            0.003326             0.0  9.762948\n",
       "pm              2.805086            0.004022             0.0  1.101946"
      ]
     },
     "execution_count": 427,
     "metadata": {},
     "output_type": "execute_result"
    }
   ],
   "source": [
    "m,s= GrabRouteData(\"R\",\"A\")\n",
    "s"
   ]
  },
  {
   "cell_type": "code",
   "execution_count": 428,
   "metadata": {},
   "outputs": [],
   "source": [
    "def filter_bus_data(start,end,buses):    \n",
    "    buses = trip[trip['tripinfo_vType'] == \"bus\"]\n",
    "    buses['drop'] = buses['tripinfo_id'].apply(lambda x: x[2:5])\n",
    "    buses.drop( buses[ buses['drop'] == 'bus' ].index , inplace=True)\n",
    "    buses.reset_index(inplace=True,drop=True)\n",
    "    buses['start'] = buses['tripinfo_id'].apply(lambda x: x[0])\n",
    "    buses['end'] = buses['tripinfo_id'].apply(lambda x: x[1])\n",
    "    buses['hour'] = buses['tripinfo_arrival'].apply(lambda x: round(x/3600) )\n",
    "    buses['gallons'] = buses['emissions_fuel_abs'].values * 0.000264172\n",
    "    buses['distance_miles'] = buses['tripinfo_routeLength'].values * 0.000621371\n",
    "    filter_df = buses.loc[(buses['start'] == start) & (buses['end'] == end)]\n",
    "    filter_df = filter_df[['gallons','distance_miles','tripinfo_duration','hour']]\n",
    "    return filter_df\n",
    "    \n",
    "\n",
    "\n",
    "def group_data_by_time(df):\n",
    "    grp_mean = df.groupby(['time_period']).mean()\n",
    "    grp_std = df.groupby(['time_period']).std()\n",
    "    \n",
    "    grp_mean = grp_mean[['gallons','distance_miles','tripinfo_duration']]\n",
    "    grp_std = grp_std[['gallons','distance_miles','tripinfo_duration']]\n",
    "    grp_mean.fillna(0,inplace=True)\n",
    "    grp_std.fillna(0,inplace=True)\n",
    "    return grp_mean, grp_std\n",
    "\n"
   ]
  },
  {
   "cell_type": "code",
   "execution_count": 429,
   "metadata": {},
   "outputs": [
    {
     "data": {
      "text/html": [
       "<div>\n",
       "<style scoped>\n",
       "    .dataframe tbody tr th:only-of-type {\n",
       "        vertical-align: middle;\n",
       "    }\n",
       "\n",
       "    .dataframe tbody tr th {\n",
       "        vertical-align: top;\n",
       "    }\n",
       "\n",
       "    .dataframe thead th {\n",
       "        text-align: right;\n",
       "    }\n",
       "</style>\n",
       "<table border=\"1\" class=\"dataframe\">\n",
       "  <thead>\n",
       "    <tr style=\"text-align: right;\">\n",
       "      <th></th>\n",
       "      <th>gallons</th>\n",
       "      <th>distance_miles</th>\n",
       "      <th>tripinfo_duration</th>\n",
       "      <th>hour</th>\n",
       "    </tr>\n",
       "  </thead>\n",
       "  <tbody>\n",
       "    <tr>\n",
       "      <th>7</th>\n",
       "      <td>0.326773</td>\n",
       "      <td>1.572342</td>\n",
       "      <td>145.25</td>\n",
       "      <td>1</td>\n",
       "    </tr>\n",
       "    <tr>\n",
       "      <th>20</th>\n",
       "      <td>0.450477</td>\n",
       "      <td>1.738640</td>\n",
       "      <td>200.00</td>\n",
       "      <td>1</td>\n",
       "    </tr>\n",
       "    <tr>\n",
       "      <th>37</th>\n",
       "      <td>0.335843</td>\n",
       "      <td>1.689390</td>\n",
       "      <td>151.25</td>\n",
       "      <td>1</td>\n",
       "    </tr>\n",
       "    <tr>\n",
       "      <th>50</th>\n",
       "      <td>0.445555</td>\n",
       "      <td>1.738640</td>\n",
       "      <td>199.50</td>\n",
       "      <td>1</td>\n",
       "    </tr>\n",
       "    <tr>\n",
       "      <th>114</th>\n",
       "      <td>0.458089</td>\n",
       "      <td>1.855687</td>\n",
       "      <td>206.25</td>\n",
       "      <td>3</td>\n",
       "    </tr>\n",
       "  </tbody>\n",
       "</table>\n",
       "</div>"
      ],
      "text/plain": [
       "      gallons  distance_miles  tripinfo_duration  hour\n",
       "7    0.326773        1.572342             145.25     1\n",
       "20   0.450477        1.738640             200.00     1\n",
       "37   0.335843        1.689390             151.25     1\n",
       "50   0.445555        1.738640             199.50     1\n",
       "114  0.458089        1.855687             206.25     3"
      ]
     },
     "execution_count": 429,
     "metadata": {},
     "output_type": "execute_result"
    }
   ],
   "source": [
    "tmp = filter_bus_data('B','D',trip)\n",
    "tmp.head()"
   ]
  },
  {
   "cell_type": "code",
   "execution_count": 430,
   "metadata": {},
   "outputs": [
    {
     "data": {
      "text/html": [
       "<div>\n",
       "<style scoped>\n",
       "    .dataframe tbody tr th:only-of-type {\n",
       "        vertical-align: middle;\n",
       "    }\n",
       "\n",
       "    .dataframe tbody tr th {\n",
       "        vertical-align: top;\n",
       "    }\n",
       "\n",
       "    .dataframe thead th {\n",
       "        text-align: right;\n",
       "    }\n",
       "</style>\n",
       "<table border=\"1\" class=\"dataframe\">\n",
       "  <thead>\n",
       "    <tr style=\"text-align: right;\">\n",
       "      <th></th>\n",
       "      <th>gallons</th>\n",
       "      <th>distance_miles</th>\n",
       "      <th>tripinfo_duration</th>\n",
       "      <th>hour</th>\n",
       "      <th>time_period</th>\n",
       "    </tr>\n",
       "  </thead>\n",
       "  <tbody>\n",
       "    <tr>\n",
       "      <th>7</th>\n",
       "      <td>0.326773</td>\n",
       "      <td>1.572342</td>\n",
       "      <td>145.25</td>\n",
       "      <td>1</td>\n",
       "      <td>op</td>\n",
       "    </tr>\n",
       "    <tr>\n",
       "      <th>20</th>\n",
       "      <td>0.450477</td>\n",
       "      <td>1.738640</td>\n",
       "      <td>200.00</td>\n",
       "      <td>1</td>\n",
       "      <td>op</td>\n",
       "    </tr>\n",
       "    <tr>\n",
       "      <th>37</th>\n",
       "      <td>0.335843</td>\n",
       "      <td>1.689390</td>\n",
       "      <td>151.25</td>\n",
       "      <td>1</td>\n",
       "      <td>op</td>\n",
       "    </tr>\n",
       "    <tr>\n",
       "      <th>50</th>\n",
       "      <td>0.445555</td>\n",
       "      <td>1.738640</td>\n",
       "      <td>199.50</td>\n",
       "      <td>1</td>\n",
       "      <td>op</td>\n",
       "    </tr>\n",
       "    <tr>\n",
       "      <th>114</th>\n",
       "      <td>0.458089</td>\n",
       "      <td>1.855687</td>\n",
       "      <td>206.25</td>\n",
       "      <td>3</td>\n",
       "      <td>op</td>\n",
       "    </tr>\n",
       "    <tr>\n",
       "      <th>127</th>\n",
       "      <td>0.371555</td>\n",
       "      <td>1.648677</td>\n",
       "      <td>159.75</td>\n",
       "      <td>3</td>\n",
       "      <td>op</td>\n",
       "    </tr>\n",
       "    <tr>\n",
       "      <th>135</th>\n",
       "      <td>0.317904</td>\n",
       "      <td>1.572342</td>\n",
       "      <td>144.50</td>\n",
       "      <td>3</td>\n",
       "      <td>op</td>\n",
       "    </tr>\n",
       "    <tr>\n",
       "      <th>160</th>\n",
       "      <td>0.374218</td>\n",
       "      <td>1.648677</td>\n",
       "      <td>160.25</td>\n",
       "      <td>3</td>\n",
       "      <td>op</td>\n",
       "    </tr>\n",
       "    <tr>\n",
       "      <th>177</th>\n",
       "      <td>0.322870</td>\n",
       "      <td>1.572342</td>\n",
       "      <td>145.00</td>\n",
       "      <td>4</td>\n",
       "      <td>am</td>\n",
       "    </tr>\n",
       "    <tr>\n",
       "      <th>199</th>\n",
       "      <td>0.260911</td>\n",
       "      <td>1.016905</td>\n",
       "      <td>104.25</td>\n",
       "      <td>4</td>\n",
       "      <td>am</td>\n",
       "    </tr>\n",
       "  </tbody>\n",
       "</table>\n",
       "</div>"
      ],
      "text/plain": [
       "      gallons  distance_miles  tripinfo_duration  hour time_period\n",
       "7    0.326773        1.572342             145.25     1          op\n",
       "20   0.450477        1.738640             200.00     1          op\n",
       "37   0.335843        1.689390             151.25     1          op\n",
       "50   0.445555        1.738640             199.50     1          op\n",
       "114  0.458089        1.855687             206.25     3          op\n",
       "127  0.371555        1.648677             159.75     3          op\n",
       "135  0.317904        1.572342             144.50     3          op\n",
       "160  0.374218        1.648677             160.25     3          op\n",
       "177  0.322870        1.572342             145.00     4          am\n",
       "199  0.260911        1.016905             104.25     4          am"
      ]
     },
     "execution_count": 430,
     "metadata": {},
     "output_type": "execute_result"
    }
   ],
   "source": [
    "tmp = cluster_hour(tmp,AM,MID,PM)\n",
    "tmp.head(10)"
   ]
  },
  {
   "cell_type": "code",
   "execution_count": 431,
   "metadata": {},
   "outputs": [
    {
     "data": {
      "text/html": [
       "<div>\n",
       "<style scoped>\n",
       "    .dataframe tbody tr th:only-of-type {\n",
       "        vertical-align: middle;\n",
       "    }\n",
       "\n",
       "    .dataframe tbody tr th {\n",
       "        vertical-align: top;\n",
       "    }\n",
       "\n",
       "    .dataframe thead th {\n",
       "        text-align: right;\n",
       "    }\n",
       "</style>\n",
       "<table border=\"1\" class=\"dataframe\">\n",
       "  <thead>\n",
       "    <tr style=\"text-align: right;\">\n",
       "      <th></th>\n",
       "      <th>gallons</th>\n",
       "      <th>distance_miles</th>\n",
       "      <th>tripinfo_duration</th>\n",
       "    </tr>\n",
       "    <tr>\n",
       "      <th>time_period</th>\n",
       "      <th></th>\n",
       "      <th></th>\n",
       "      <th></th>\n",
       "    </tr>\n",
       "  </thead>\n",
       "  <tbody>\n",
       "    <tr>\n",
       "      <th>am</th>\n",
       "      <td>0.323329</td>\n",
       "      <td>1.301451</td>\n",
       "      <td>130.026316</td>\n",
       "    </tr>\n",
       "    <tr>\n",
       "      <th>mid</th>\n",
       "      <td>0.378804</td>\n",
       "      <td>1.610431</td>\n",
       "      <td>163.785714</td>\n",
       "    </tr>\n",
       "    <tr>\n",
       "      <th>op</th>\n",
       "      <td>0.332675</td>\n",
       "      <td>1.401615</td>\n",
       "      <td>139.760000</td>\n",
       "    </tr>\n",
       "    <tr>\n",
       "      <th>pm</th>\n",
       "      <td>0.366036</td>\n",
       "      <td>1.542629</td>\n",
       "      <td>154.500000</td>\n",
       "    </tr>\n",
       "  </tbody>\n",
       "</table>\n",
       "</div>"
      ],
      "text/plain": [
       "              gallons  distance_miles  tripinfo_duration\n",
       "time_period                                             \n",
       "am           0.323329        1.301451         130.026316\n",
       "mid          0.378804        1.610431         163.785714\n",
       "op           0.332675        1.401615         139.760000\n",
       "pm           0.366036        1.542629         154.500000"
      ]
     },
     "execution_count": 431,
     "metadata": {},
     "output_type": "execute_result"
    }
   ],
   "source": [
    "m,s = group_data_by_time(tmp)\n",
    "m"
   ]
  },
  {
   "cell_type": "code",
   "execution_count": 432,
   "metadata": {},
   "outputs": [],
   "source": [
    "def cluster_hour(df,am,middle,pm):\n",
    "    hour_factor = []\n",
    "    for h in df['hour']:\n",
    "        if h >= am[0] and h <= am[1]:\n",
    "            hour_factor.append('am')\n",
    "        elif h >= pm[0] and h <= pm[1]:\n",
    "            hour_factor.append('pm')\n",
    "        elif h >= middle[0] and h <= middle[1]:\n",
    "            hour_factor.append('mid')\n",
    "        else:\n",
    "            hour_factor.append('op')\n",
    "    df['time_period'] = hour_factor\n",
    "    return df"
   ]
  },
  {
   "cell_type": "code",
   "execution_count": 433,
   "metadata": {},
   "outputs": [
    {
     "data": {
      "text/plain": [
       "time_period\n",
       "am     0.323329\n",
       "mid    0.378804\n",
       "op     0.332675\n",
       "pm     0.366036\n",
       "Name: gallons, dtype: float64"
      ]
     },
     "execution_count": 433,
     "metadata": {},
     "output_type": "execute_result"
    }
   ],
   "source": [
    "f = filter_bus_data('B','D',trip)\n",
    "c = cluster_hour(f,[4,9],[8,15],[15,18])\n",
    "m,s = group_data_by_time(c)\n",
    "m['gallons']"
   ]
  },
  {
   "cell_type": "code",
   "execution_count": 434,
   "metadata": {},
   "outputs": [],
   "source": [
    "def generate_matrixes(agg,buses):\n",
    "    matrix_dictionary = {}\n",
    "    metrics = ['gallons','distance_miles','tripinfo_duration']\n",
    "    time = ['am','mid','pm','op']\n",
    "    for m in metrics:\n",
    "        matrix_dictionary[m] = {}\n",
    "        \n",
    "        for t in time:\n",
    "\n",
    "            data = np.zeros((6, 6))\n",
    "            matrix = pd.DataFrame(data,columns=['A','B','C','D','E','R'],index=['A','B','C','D','E','R'])\n",
    "            \n",
    "            \n",
    "            matrix_dictionary[m][t] = matrix\n",
    "    \n",
    "    terminals = ['A','B','C','D','E']\n",
    "#     return matrix_dictionary\n",
    "\n",
    "# def build_matrices(dictionary,buses,agg):\n",
    "#     metrics = ['gallons','distance_miles','tripinfo_duration']\n",
    "#     time = ['am','mid','pm','op']\n",
    "    for start in terminals:\n",
    "        for end in terminals:\n",
    "            \n",
    "            if start != end:\n",
    "                filter_df = filter_bus_data(start,end,buses)\n",
    "                clustered = cluster_hour(filter_df,AM,MID,PM)\n",
    "                mn,std = group_data_by_time(clustered)\n",
    "                \n",
    "                for m in metrics:\n",
    "                    for t in time:\n",
    "                        \n",
    "                        value_mean = mn[m][t]\n",
    "                        value_std = std[m][t]\n",
    "                        if agg == 'std':\n",
    "                            value = value_std\n",
    "                        else:\n",
    "                            value = value_mean\n",
    "                        matrix_dictionary[m][t][start][end] = value \n",
    "\n",
    "                        \n",
    "    return matrix_dictionary\n",
    "\n"
   ]
  },
  {
   "cell_type": "code",
   "execution_count": 435,
   "metadata": {},
   "outputs": [],
   "source": [
    "std_dictionary = generate_matrixes('std',trip)\n",
    "mean_dictionary = generate_matrixes('mean',trip)"
   ]
  },
  {
   "cell_type": "code",
   "execution_count": 436,
   "metadata": {},
   "outputs": [],
   "source": [
    "RAC = \"R\"\n",
    "terminals = ['A','B','C','D','E']\n",
    "metrics = [\"Travel_time\",\"Fuel_usage_gallons\",\"Distance_miles\"]\n",
    "metrics_alt = ['tripinfo_duration','gallons','distance_miles']\n",
    "period = ['am','pm','mid','op']\n",
    "for t in terminals:\n",
    "    \n",
    "    table_vertical_mn,table_vertical_std = GrabRouteData(RAC,t)\n",
    "    table_horizontal_mn,table_horizontal_std = GrabRouteData(t,RAC)\n",
    "\n",
    "    for hour in period:\n",
    "        count = 0\n",
    "        for m in metrics:\n",
    "            mv = table_vertical_mn[m][hour]\n",
    "            stdv = table_vertical_std[m][hour]\n",
    "            mh = table_horizontal_mn[m][hour]\n",
    "            stdh = table_horizontal_std[m][hour]\n",
    "            mean_dictionary[metrics_alt[count]][hour][RAC][t] = mv\n",
    "            std_dictionary[metrics_alt[count]][hour][RAC][t] = stdv\n",
    "            mean_dictionary[metrics_alt[count]][hour][t][RAC] = mh\n",
    "            std_dictionary[metrics_alt[count]][hour][t][RAC] = stdh\n",
    "            count+=1\n"
   ]
  },
  {
   "cell_type": "code",
   "execution_count": null,
   "metadata": {},
   "outputs": [],
   "source": []
  },
  {
   "cell_type": "markdown",
   "metadata": {},
   "source": [
    "# Options:\n",
    "First pick mean or deviation dictionary\n",
    "1. First Level: Metrics (i.e. full_matrix['tripinfo_duration'])\n",
    "       * 'tripinfo_duration'\n",
    "       * 'gallons'\n",
    "       * 'distance_miles'\n",
    "       \n",
    "2. Time Period\n",
    "       * 'am'\n",
    "       * 'mid'\n",
    "       * 'pm'\n",
    "       * 'op'\n",
    "\n",
    "3. Start Point & 4. End Point\n",
    "       * 'A'\n",
    "       * 'B'\n",
    "       * 'C'\n",
    "       * 'D'\n",
    "       * 'E'\n",
    "       * 'R'\n"
   ]
  },
  {
   "cell_type": "code",
   "execution_count": 437,
   "metadata": {},
   "outputs": [
    {
     "data": {
      "text/plain": [
       "0.31841973120198686"
      ]
     },
     "execution_count": 437,
     "metadata": {},
     "output_type": "execute_result"
    }
   ],
   "source": [
    "mean_dictionary['gallons']['am']['A']['B']"
   ]
  },
  {
   "cell_type": "markdown",
   "metadata": {},
   "source": [
    "# Or to see Full matrix"
   ]
  },
  {
   "cell_type": "code",
   "execution_count": 438,
   "metadata": {},
   "outputs": [
    {
     "data": {
      "text/html": [
       "<div>\n",
       "<style scoped>\n",
       "    .dataframe tbody tr th:only-of-type {\n",
       "        vertical-align: middle;\n",
       "    }\n",
       "\n",
       "    .dataframe tbody tr th {\n",
       "        vertical-align: top;\n",
       "    }\n",
       "\n",
       "    .dataframe thead th {\n",
       "        text-align: right;\n",
       "    }\n",
       "</style>\n",
       "<table border=\"1\" class=\"dataframe\">\n",
       "  <thead>\n",
       "    <tr style=\"text-align: right;\">\n",
       "      <th></th>\n",
       "      <th>A</th>\n",
       "      <th>B</th>\n",
       "      <th>C</th>\n",
       "      <th>D</th>\n",
       "      <th>E</th>\n",
       "      <th>R</th>\n",
       "    </tr>\n",
       "  </thead>\n",
       "  <tbody>\n",
       "    <tr>\n",
       "      <th>A</th>\n",
       "      <td>0.000000</td>\n",
       "      <td>0.313684</td>\n",
       "      <td>0.368312</td>\n",
       "      <td>0.397793</td>\n",
       "      <td>0.440752</td>\n",
       "      <td>0.563536</td>\n",
       "    </tr>\n",
       "    <tr>\n",
       "      <th>B</th>\n",
       "      <td>0.318420</td>\n",
       "      <td>0.000000</td>\n",
       "      <td>0.279175</td>\n",
       "      <td>0.382144</td>\n",
       "      <td>0.424743</td>\n",
       "      <td>0.693811</td>\n",
       "    </tr>\n",
       "    <tr>\n",
       "      <th>C</th>\n",
       "      <td>0.392780</td>\n",
       "      <td>0.329603</td>\n",
       "      <td>0.000000</td>\n",
       "      <td>0.279470</td>\n",
       "      <td>0.429721</td>\n",
       "      <td>0.560647</td>\n",
       "    </tr>\n",
       "    <tr>\n",
       "      <th>D</th>\n",
       "      <td>0.399063</td>\n",
       "      <td>0.323329</td>\n",
       "      <td>0.271572</td>\n",
       "      <td>0.000000</td>\n",
       "      <td>0.381338</td>\n",
       "      <td>0.669040</td>\n",
       "    </tr>\n",
       "    <tr>\n",
       "      <th>E</th>\n",
       "      <td>0.464747</td>\n",
       "      <td>0.421762</td>\n",
       "      <td>0.412517</td>\n",
       "      <td>0.279528</td>\n",
       "      <td>0.000000</td>\n",
       "      <td>0.509528</td>\n",
       "    </tr>\n",
       "    <tr>\n",
       "      <th>R</th>\n",
       "      <td>0.763731</td>\n",
       "      <td>0.672428</td>\n",
       "      <td>0.737240</td>\n",
       "      <td>0.587059</td>\n",
       "      <td>0.638459</td>\n",
       "      <td>0.000000</td>\n",
       "    </tr>\n",
       "  </tbody>\n",
       "</table>\n",
       "</div>"
      ],
      "text/plain": [
       "          A         B         C         D         E         R\n",
       "A  0.000000  0.313684  0.368312  0.397793  0.440752  0.563536\n",
       "B  0.318420  0.000000  0.279175  0.382144  0.424743  0.693811\n",
       "C  0.392780  0.329603  0.000000  0.279470  0.429721  0.560647\n",
       "D  0.399063  0.323329  0.271572  0.000000  0.381338  0.669040\n",
       "E  0.464747  0.421762  0.412517  0.279528  0.000000  0.509528\n",
       "R  0.763731  0.672428  0.737240  0.587059  0.638459  0.000000"
      ]
     },
     "execution_count": 438,
     "metadata": {},
     "output_type": "execute_result"
    }
   ],
   "source": [
    "mean_dictionary['gallons']['am']"
   ]
  },
  {
   "cell_type": "markdown",
   "metadata": {},
   "source": [
    "# We Can Visualize It Too!"
   ]
  },
  {
   "cell_type": "code",
   "execution_count": 439,
   "metadata": {},
   "outputs": [
    {
     "data": {
      "text/plain": [
       "Text(0.5, 1.0, 'Standard Deviation')"
      ]
     },
     "execution_count": 439,
     "metadata": {},
     "output_type": "execute_result"
    },
    {
     "data": {
      "image/png": "[encoded data removed]",
      "text/plain": [
       "<Figure size 1080x504 with 4 Axes>"
      ]
     },
     "metadata": {
      "needs_background": "light"
     },
     "output_type": "display_data"
    }
   ],
   "source": [
    "plt.figure(figsize=(15,7))\n",
    "plt.subplot(1, 2, 1)\n",
    "sns.heatmap(mean_dictionary['gallons']['am'],\n",
    "            cmap='RdYlGn_r', \n",
    "            linewidths=0.5,\n",
    "            annot=True)\n",
    "plt.title(\"Mean\")\n",
    "plt.subplot(1, 2, 2)\n",
    "sns.heatmap(std_dictionary['gallons']['am'],\n",
    "            cmap='RdYlGn_r', \n",
    "            linewidths=0.5,\n",
    "            annot=True)\n",
    "plt.title(\"Standard Deviation\")"
   ]
  },
  {
   "cell_type": "code",
   "execution_count": 440,
   "metadata": {},
   "outputs": [
    {
     "data": {
      "text/plain": [
       "Text(0.5, 1.0, 'Standard Deviation')"
      ]
     },
     "execution_count": 440,
     "metadata": {},
     "output_type": "execute_result"
    },
    {
     "data": {
      "image/png": "[encoded data removed]",
      "text/plain": [
       "<Figure size 1080x504 with 4 Axes>"
      ]
     },
     "metadata": {
      "needs_background": "light"
     },
     "output_type": "display_data"
    }
   ],
   "source": [
    "plt.figure(figsize=(15,7))\n",
    "plt.subplot(1, 2, 1)\n",
    "sns.heatmap(mean_dictionary['distance_miles']['am'],\n",
    "            cmap='RdYlGn_r', \n",
    "            linewidths=0.5,\n",
    "            annot=True)\n",
    "plt.title(\"Mean\")\n",
    "plt.subplot(1, 2, 2)\n",
    "sns.heatmap(std_dictionary['distance_miles']['am'],\n",
    "            cmap='RdYlGn_r', \n",
    "            linewidths=0.5,\n",
    "            annot=True)\n",
    "plt.title(\"Standard Deviation\")"
   ]
  },
  {
   "cell_type": "code",
   "execution_count": 441,
   "metadata": {},
   "outputs": [
    {
     "data": {
      "text/plain": [
       "Text(0.5, 1.0, 'Standard Deviation')"
      ]
     },
     "execution_count": 441,
     "metadata": {},
     "output_type": "execute_result"
    },
    {
     "data": {
      "image/png": "[encoded data removed]",
      "text/plain": [
       "<Figure size 1080x504 with 4 Axes>"
      ]
     },
     "metadata": {
      "needs_background": "light"
     },
     "output_type": "display_data"
    }
   ],
   "source": [
    "plt.figure(figsize=(15,7))\n",
    "plt.subplot(1, 2, 1)\n",
    "sns.heatmap(mean_dictionary['tripinfo_duration']['am'],\n",
    "            cmap='RdYlGn_r', \n",
    "            linewidths=0.5,\n",
    "            annot=True)\n",
    "plt.title(\"Mean\")\n",
    "plt.subplot(1, 2, 2)\n",
    "sns.heatmap(std_dictionary['tripinfo_duration']['am'],\n",
    "            cmap='RdYlGn_r', \n",
    "            linewidths=0.5,\n",
    "            annot=True)\n",
    "plt.title(\"Standard Deviation\")"
   ]
  },
  {
   "cell_type": "markdown",
   "metadata": {},
   "source": [
    "# Save Dictionaries"
   ]
  },
  {
   "cell_type": "code",
   "execution_count": 444,
   "metadata": {},
   "outputs": [],
   "source": [
    "# to be determined"
   ]
  },
  {
   "cell_type": "code",
   "execution_count": null,
   "metadata": {},
   "outputs": [],
   "source": []
  }
 ],
 "metadata": {
  "kernelspec": {
   "display_name": "Python 3",
   "language": "python",
   "name": "python3"
  },
  "language_info": {
   "codemirror_mode": {
    "name": "ipython",
    "version": 3
   },
   "file_extension": ".py",
   "mimetype": "text/x-python",
   "name": "python",
   "nbconvert_exporter": "python",
   "pygments_lexer": "ipython3",
   "version": "3.6.8"
  }
 },
 "nbformat": 4,
 "nbformat_minor": 2
}
