{
 "cells": [
  {
   "cell_type": "code",
   "execution_count": null,
   "metadata": {},
   "outputs": [],
   "source": [
    "## This Notebook creates path files to similate traffic routing through Terminal D garage, \n",
    "## given Terminal D curbside closure\n",
    "We will simulate curbside drop off through the garage by significantly reducing the speed at the curb,\n",
    "and allowing drop/pick up on any lane. "
   ]
  }
 ],
 "metadata": {
  "kernelspec": {
   "display_name": "Python [conda env:Athena]",
   "language": "python",
   "name": "conda-env-Athena-py"
  },
  "language_info": {
   "codemirror_mode": {
    "name": "ipython",
    "version": 3
   },
   "file_extension": ".py",
   "mimetype": "text/x-python",
   "name": "python",
   "nbconvert_exporter": "python",
   "pygments_lexer": "ipython3",
   "version": "3.6.8"
  }
 },
 "nbformat": 4,
 "nbformat_minor": 2
}
