{
 "cells": [
  {
   "cell_type": "code",
   "execution_count": 1,
   "metadata": {},
   "outputs": [],
   "source": [
    "import xml.etree.ElementTree as ET\n",
    "from xml.etree.ElementTree import Element\n",
    "from lxml import etree\n",
    "import pandas as pd"
   ]
  },
  {
   "cell_type": "code",
   "execution_count": 2,
   "metadata": {},
   "outputs": [],
   "source": [
    "import nbimporter"
   ]
  },
  {
   "cell_type": "code",
   "execution_count": 3,
   "metadata": {},
   "outputs": [
    {
     "name": "stdout",
     "output_type": "stream",
     "text": [
      "Importing Jupyter notebook from Create_Lane_Closures.ipynb\n"
     ]
    }
   ],
   "source": [
    "from Create_Lane_Closures import create_lane_closures"
   ]
  },
  {
   "cell_type": "code",
   "execution_count": 13,
   "metadata": {},
   "outputs": [],
   "source": [
    "# First Read Network file with xml\n",
    "net_file = 'DFW.net.xml'\n",
    "path_to_net_file = '../Example_Files/SUMO_Input_Files/' + net_file"
   ]
  },
  {
   "cell_type": "code",
   "execution_count": 14,
   "metadata": {},
   "outputs": [],
   "source": [
    "net_tree = etree.parse(path_to_net_file)  # parse the network xml file"
   ]
  },
  {
   "cell_type": "code",
   "execution_count": 15,
   "metadata": {},
   "outputs": [],
   "source": [
    "# Read edges that are not internal\n",
    "edges = net_tree.xpath('.//edge[not(@function=\"internal\")]')"
   ]
  },
  {
   "cell_type": "markdown",
   "metadata": {},
   "source": [
    "### Create Data Frame of All Road Ids and number of lanes"
   ]
  },
  {
   "cell_type": "code",
   "execution_count": 16,
   "metadata": {},
   "outputs": [],
   "source": [
    "df = pd.DataFrame(columns = ['Link_Id', 'Num_Lanes'])"
   ]
  },
  {
   "cell_type": "code",
   "execution_count": 17,
   "metadata": {},
   "outputs": [],
   "source": [
    "i = 0\n",
    "for e in edges:\n",
    "    num_lanes = len(e.xpath('.//lane'))\n",
    "    df.loc[i] = [e.attrib['id'], int(num_lanes)]\n",
    "    i = i+1\n",
    "    "
   ]
  },
  {
   "cell_type": "code",
   "execution_count": 18,
   "metadata": {},
   "outputs": [
    {
     "data": {
      "text/html": [
       "<div>\n",
       "<style scoped>\n",
       "    .dataframe tbody tr th:only-of-type {\n",
       "        vertical-align: middle;\n",
       "    }\n",
       "\n",
       "    .dataframe tbody tr th {\n",
       "        vertical-align: top;\n",
       "    }\n",
       "\n",
       "    .dataframe thead th {\n",
       "        text-align: right;\n",
       "    }\n",
       "</style>\n",
       "<table border=\"1\" class=\"dataframe\">\n",
       "  <thead>\n",
       "    <tr style=\"text-align: right;\">\n",
       "      <th></th>\n",
       "      <th>Link_Id</th>\n",
       "      <th>Num_Lanes</th>\n",
       "    </tr>\n",
       "  </thead>\n",
       "  <tbody>\n",
       "    <tr>\n",
       "      <th>0</th>\n",
       "      <td>-10027460#0</td>\n",
       "      <td>1</td>\n",
       "    </tr>\n",
       "    <tr>\n",
       "      <th>1</th>\n",
       "      <td>-10027460#1</td>\n",
       "      <td>1</td>\n",
       "    </tr>\n",
       "    <tr>\n",
       "      <th>2</th>\n",
       "      <td>-10027476</td>\n",
       "      <td>1</td>\n",
       "    </tr>\n",
       "    <tr>\n",
       "      <th>3</th>\n",
       "      <td>-10031443#0</td>\n",
       "      <td>1</td>\n",
       "    </tr>\n",
       "    <tr>\n",
       "      <th>4</th>\n",
       "      <td>-10031443#1</td>\n",
       "      <td>1</td>\n",
       "    </tr>\n",
       "  </tbody>\n",
       "</table>\n",
       "</div>"
      ],
      "text/plain": [
       "       Link_Id Num_Lanes\n",
       "0  -10027460#0         1\n",
       "1  -10027460#1         1\n",
       "2    -10027476         1\n",
       "3  -10031443#0         1\n",
       "4  -10031443#1         1"
      ]
     },
     "execution_count": 18,
     "metadata": {},
     "output_type": "execute_result"
    }
   ],
   "source": [
    "df.head()"
   ]
  },
  {
   "cell_type": "code",
   "execution_count": null,
   "metadata": {},
   "outputs": [],
   "source": []
  },
  {
   "cell_type": "markdown",
   "metadata": {},
   "source": [
    "### Create lane closes for Terminal/Curbside edges"
   ]
  },
  {
   "cell_type": "code",
   "execution_count": 11,
   "metadata": {},
   "outputs": [],
   "source": [
    "Terminals = ['A_', 'B_', 'C_', 'D_', 'E_']"
   ]
  },
  {
   "cell_type": "markdown",
   "metadata": {},
   "source": [
    "#### All-day closing of right most lane of each terminal curbside roads"
   ]
  },
  {
   "cell_type": "code",
   "execution_count": 12,
   "metadata": {},
   "outputs": [],
   "source": [
    "for t in Terminals:\n",
    "    link_ids = pd.Series(df.Link_Id.values.flatten())\n",
    "    term_links = link_ids[link_ids.str.startswith(t)]\n",
    "    \n",
    "    beg = 0  # Begining of lane closure\n",
    "    end = 86400   # This simulates all day lane closures\n",
    "    \n",
    "    for l in term_links:\n",
    "        x = df.loc[df['Link_Id'] == l]\n",
    "        num_lanes = x['Num_Lanes'].values[0] # gets the number of lanes\n",
    "        edges_to_close = {l:1}\n",
    "        \n",
    "        # Create the lane closure\n",
    "        create_lane_closures(edges_to_close, beg, end)"
   ]
  },
  {
   "cell_type": "markdown",
   "metadata": {},
   "source": [
    "#### International Pkwy rolling closures 11pm to 5AM from Monday through Friday"
   ]
  },
  {
   "cell_type": "code",
   "execution_count": 27,
   "metadata": {},
   "outputs": [],
   "source": [
    "## Fixme: need to figure out how they rollout the closure on international parkway\n",
    "# North Bound\n",
    "link_ids = pd.Series(df.Link_Id.values.flatten())\n",
    "int_links = link_ids[link_ids.str.startswith('Internation_NB')]"
   ]
  },
  {
   "cell_type": "code",
   "execution_count": 28,
   "metadata": {},
   "outputs": [
    {
     "name": "stdout",
     "output_type": "stream",
     "text": [
      "Internation_NB_10\n",
      "Internation_NB_11\n",
      "Internation_NB_12\n",
      "Internation_NB_13\n",
      "Internation_NB_14\n",
      "Internation_NB_15\n",
      "Internation_NB_16\n",
      "Internation_NB_17\n",
      "Internation_NB_18\n",
      "Internation_NB_19\n",
      "Internation_NB_2\n",
      "Internation_NB_20\n",
      "Internation_NB_21\n",
      "Internation_NB_22\n",
      "Internation_NB_23\n",
      "Internation_NB_24\n",
      "Internation_NB_25\n",
      "Internation_NB_26\n",
      "Internation_NB_27\n",
      "Internation_NB_28\n",
      "Internation_NB_29\n",
      "Internation_NB_3\n",
      "Internation_NB_30\n",
      "Internation_NB_31\n",
      "Internation_NB_32\n",
      "Internation_NB_33\n",
      "Internation_NB_34\n",
      "Internation_NB_35\n",
      "Internation_NB_36\n",
      "Internation_NB_4\n",
      "Internation_NB_5\n",
      "Internation_NB_6\n",
      "Internation_NB_7\n",
      "Internation_NB_8\n",
      "Internation_NB_9\n"
     ]
    }
   ],
   "source": [
    "for l in Int_links:\n",
    "    print(l)"
   ]
  },
  {
   "cell_type": "code",
   "execution_count": null,
   "metadata": {},
   "outputs": [],
   "source": [
    "# South Bound\n",
    "link_ids = pd.Series(df.Link_Id.values.flatten())\n",
    "int_links = link_ids[link_ids.str.startswith('Internation_SB')]"
   ]
  },
  {
   "cell_type": "code",
   "execution_count": null,
   "metadata": {},
   "outputs": [],
   "source": []
  },
  {
   "cell_type": "code",
   "execution_count": null,
   "metadata": {},
   "outputs": [],
   "source": []
  }
 ],
 "metadata": {
  "@webio": {
   "lastCommId": null,
   "lastKernelId": null
  },
  "kernelspec": {
   "display_name": "Python [conda env:Athena]",
   "language": "python",
   "name": "conda-env-Athena-py"
  },
  "language_info": {
   "codemirror_mode": {
    "name": "ipython",
    "version": 3
   },
   "file_extension": ".py",
   "mimetype": "text/x-python",
   "name": "python",
   "nbconvert_exporter": "python",
   "pygments_lexer": "ipython3",
   "version": "3.6.8"
  }
 },
 "nbformat": 4,
 "nbformat_minor": 2
}
