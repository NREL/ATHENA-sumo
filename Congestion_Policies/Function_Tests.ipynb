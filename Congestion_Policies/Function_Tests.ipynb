{
 "cells": [
  {
   "cell_type": "code",
   "execution_count": 1,
   "metadata": {},
   "outputs": [
    {
     "name": "stdout",
     "output_type": "stream",
     "text": [
      "Importing Jupyter notebook from Master_Function.ipynb\n"
     ]
    }
   ],
   "source": [
    "import xml.etree.ElementTree as ET\n",
    "from xml.etree.ElementTree import Element\n",
    "from lxml import etree\n",
    "import pandas as pd\n",
    "import nbimporter\n",
    "from Master_Function import master_function\n",
    "import numpy as np"
   ]
  },
  {
   "cell_type": "code",
   "execution_count": 60,
   "metadata": {},
   "outputs": [
    {
     "data": {
      "text/html": [
       "<div>\n",
       "<style scoped>\n",
       "    .dataframe tbody tr th:only-of-type {\n",
       "        vertical-align: middle;\n",
       "    }\n",
       "\n",
       "    .dataframe tbody tr th {\n",
       "        vertical-align: top;\n",
       "    }\n",
       "\n",
       "    .dataframe thead th {\n",
       "        text-align: right;\n",
       "    }\n",
       "</style>\n",
       "<table border=\"1\" class=\"dataframe\">\n",
       "  <thead>\n",
       "    <tr style=\"text-align: right;\">\n",
       "      <th></th>\n",
       "      <th>scheduled_fight_time</th>\n",
       "      <th>parking</th>\n",
       "      <th>pass</th>\n",
       "      <th>A</th>\n",
       "      <th>B</th>\n",
       "      <th>C</th>\n",
       "      <th>D</th>\n",
       "      <th>E</th>\n",
       "      <th>time</th>\n",
       "      <th>month</th>\n",
       "      <th>day</th>\n",
       "      <th>year</th>\n",
       "    </tr>\n",
       "  </thead>\n",
       "  <tbody>\n",
       "    <tr>\n",
       "      <th>0</th>\n",
       "      <td>2017-10-10 00:00:00</td>\n",
       "      <td>100</td>\n",
       "      <td>100</td>\n",
       "      <td>100</td>\n",
       "      <td>100</td>\n",
       "      <td>100</td>\n",
       "      <td>100</td>\n",
       "      <td>100</td>\n",
       "      <td>100</td>\n",
       "      <td>10</td>\n",
       "      <td>10</td>\n",
       "      <td>2017</td>\n",
       "    </tr>\n",
       "  </tbody>\n",
       "</table>\n",
       "</div>"
      ],
      "text/plain": [
       "  scheduled_fight_time  parking  pass    A    B    C    D    E  time  month  \\\n",
       "0  2017-10-10 00:00:00      100   100  100  100  100  100  100   100     10   \n",
       "\n",
       "   day  year  \n",
       "0   10  2017  "
      ]
     },
     "execution_count": 60,
     "metadata": {},
     "output_type": "execute_result"
    }
   ],
   "source": [
    "dwell_time = pd.read_csv(\"Dwell_Distributions.csv\")\n",
    "demand = pd.DataFrame()\n",
    "columns = ['scheduled_fight_time', 'parking', 'pass', 'A', 'B', 'C', 'D', 'E',\n",
    "       'time', 'month', 'day', 'year']\n",
    "for col in columns:\n",
    "    demand[col] = [100]\n",
    "demand['scheduled_fight_time'] = ['2017-10-10 00:00:00']\n",
    "demand['year'] = [2017]\n",
    "demand['month'] = [10]\n",
    "demand['day'] = [10]\n",
    "demand.head()"
   ]
  },
  {
   "cell_type": "code",
   "execution_count": 53,
   "metadata": {},
   "outputs": [],
   "source": [
    "def num_trips_by_mode(trip_file, mode_string):\n",
    "    print(\"Finding trips of type \", mode_string, \"\\n\")\n",
    "    \n",
    "    #Read trip file and pa\n",
    "    path_to_trip_file = '../Example_Files/TempInputTrips/' + trip_file\n",
    "    trip_tree = etree.parse(path_to_trip_file)  # parse the trip xml file\n",
    "    mode_trips = trip_tree.xpath('//trip[contains(@id,\"%s\")]' % mode_string)\n",
    "    num_trips = len(mode_trips)\n",
    "    if num_trips > 0: print(mode_trips[0].attrib['id'], \"\\n\")\n",
    "    print(mode_string, \" mode has: \", num_trips)\n",
    "    return num_trips"
   ]
  },
  {
   "cell_type": "markdown",
   "metadata": {},
   "source": [
    "# Test 1: 100% to Rental Car Center\n",
    "For this test we are going to allocate 100% of the vehicles to Rental Car Center and make all the peeople be Dropoff (Departing) patrons. \n",
    "\n",
    "We anticipate the following:\n",
    "- No vehicles to A,B,C,D,E (curbside)\n",
    "- No extra Buses added\n",
    "- Pass thru vehicles will be conserved "
   ]
  },
  {
   "cell_type": "code",
   "execution_count": 54,
   "metadata": {},
   "outputs": [
    {
     "name": "stdout",
     "output_type": "stream",
     "text": [
      "         A     B     C     D     E  pass  parking\n",
      "time                                             \n",
      "10    10.0  10.0  10.0  10.0  10.0  10.0     10.0\n"
     ]
    },
    {
     "data": {
      "application/vnd.jupyter.widget-view+json": {
       "model_id": "2818146b2c044dbda438b3f029235714",
       "version_major": 2,
       "version_minor": 0
      },
      "text/plain": [
       "HBox(children=(FloatProgress(value=0.0, max=1.0), HTML(value='')))"
      ]
     },
     "metadata": {},
     "output_type": "display_data"
    },
    {
     "name": "stdout",
     "output_type": "stream",
     "text": [
      "\n",
      "   Arrive_A  Depart_A  Arrive_B  Depart_B  Arrive_C  Depart_C  Arrive_D  \\\n",
      "0      12.0       0.0      12.0       0.0      12.0       0.0      12.0   \n",
      "\n",
      "   Depart_D  Arrive_E  Depart_E  Time  pass_thru  \n",
      "0       0.0      12.0       0.0    10       10.0  \n",
      "Generating Passenger  Demand\n",
      "================================================================================\n",
      "   Arrive_A_people  Arrive_B_people  Arrive_C_people  Arrive_D_people  \\\n",
      "0             20.4             20.4             20.4             20.4   \n",
      "\n",
      "   Arrive_E_people  Depart_A_people  Depart_B_people  Depart_C_people  \\\n",
      "0             20.4              0.0              0.0              0.0   \n",
      "\n",
      "   Depart_D_people  Depart_E_people  Depart_total  Arrival_total  pass_thru  \\\n",
      "0              0.0              0.0           0.0          102.0       10.0   \n",
      "\n",
      "   Total  \n",
      "0  102.0  \n",
      "Saving to xml:  2017-10-10.TEST.passenger.curb.xml\n",
      "Generating Taxi Demand\n",
      "================================================================================\n",
      "Saving to xml:  2017-10-10.TEST.taxi.curb.xml\n",
      "Generating TNC Demand\n",
      "================================================================================\n",
      "Saving to xml:  2017-10-10.TEST.TNC.curb.xml\n",
      "Generating Limo Demand\n",
      "================================================================================\n",
      "Saving to xml:  2017-10-10.TEST.limo.curb.xml\n",
      "Generating Parking Demand\n",
      "================================================================================\n",
      "Saving to xml:  2017-10-10.TEST.parking.xml\n",
      "Saving to xml:  2017-10-10.TEST.MoreBuses.xml\n",
      "Generating Pass-Thru Demand\n",
      "================================================================================\n",
      "Saving to xml:  2017-10-10.TEST.passthru.xml\n",
      "36\n",
      "Combining:  ../Example_Files/TempDemandXML/2017-10-10.TEST.passthru.xml\n",
      "================================================================================\n",
      "Combining:  ../Example_Files/TempDemandXML/SampleBus.xml\n",
      "================================================================================\n",
      "Combining:  ../Example_Files/TempDemandXML/2017-10-10.TEST.passenger.curb.xml\n",
      "================================================================================\n",
      "Combining:  ../Example_Files/TempDemandXML/2017-10-10.TEST.limo.curb.xml\n",
      "================================================================================\n",
      "Combining:  ../Example_Files/TempDemandXML/2017-10-10.TEST.TNC.curb.xml\n",
      "================================================================================\n",
      "Combining:  ../Example_Files/TempDemandXML/2017-10-10.TEST.MoreBuses.xml\n",
      "================================================================================\n",
      "Combining:  ../Example_Files/TempDemandXML/2017-10-10.TEST.parking.xml\n",
      "================================================================================\n",
      "Combining:  ../Example_Files/TempDemandXML/2017-10-10.TEST.taxi.curb.xml\n",
      "================================================================================\n",
      "Combining:  ../Example_Files/TempDemandXML/Bus_Aug-15-19.xml\n",
      "================================================================================\n",
      "Saving to xml:  2017-10-10.TEST.trips.xml\n"
     ]
    }
   ],
   "source": [
    "master_function(demand=demand,\n",
    "                dwell_times=dwell_time,\n",
    "                Date='2017-10-10',\n",
    "                percentOfPassenger=0, \n",
    "                percentDropOff=1,\n",
    "                percentPickUp=0,\n",
    "                percentOfTNC=0,\n",
    "                percentOfTaxi=0,\n",
    "                percentOfTransit=0,\n",
    "                percentOfParking=0,\n",
    "                percentOfLimo=0,\n",
    "                percentOfRental=1,\n",
    "                Delete_Files = False,\n",
    "               level='TEST',\n",
    "               years=0)"
   ]
  },
  {
   "cell_type": "code",
   "execution_count": 55,
   "metadata": {},
   "outputs": [],
   "source": [
    "#Name of trip file\n",
    "trip_file = '2017-10-10.TEST.trips.xml'\n",
    "mode_strings = ['_parking_','_TNC_','_passenger_','_Taxi_','_Limo_','pass_']"
   ]
  },
  {
   "cell_type": "code",
   "execution_count": 57,
   "metadata": {},
   "outputs": [
    {
     "name": "stdout",
     "output_type": "stream",
     "text": [
      "Finding trips of type  _parking_ \n",
      "\n",
      "_parking_  mode has:  0\n",
      "Finding trips of type  _TNC_ \n",
      "\n",
      "_TNC_  mode has:  0\n",
      "Finding trips of type  _passenger_ \n",
      "\n",
      "_passenger_  mode has:  0\n",
      "Finding trips of type  _Taxi_ \n",
      "\n",
      "_Taxi_  mode has:  0\n",
      "Finding trips of type  _Limo_ \n",
      "\n",
      "_Limo_  mode has:  0\n",
      "Finding trips of type  pass_ \n",
      "\n",
      "pass_2 \n",
      "\n",
      "pass_  mode has:  10\n",
      "✓ Conservation is conserved\n",
      "✓ Pass Thru files are conseerved\n"
     ]
    }
   ],
   "source": [
    "#calling function\n",
    "conservation = 0\n",
    "count = 0\n",
    "for mode in mode_strings:\n",
    "    num_trip_mode = num_trips_by_mode(trip_file, mode)\n",
    "    if mode == \"pass_\":\n",
    "        pass_thru_mode = num_trip_mode\n",
    "    conservation += num_trip_mode\n",
    "    if mode == \"Depart_\":\n",
    "        count+=1\n",
    "assert conservation == 10\n",
    "print(u'\\u2713',\"Conservation is conserved\")\n",
    "assert pass_thru_mode == 10\n",
    "print(u'\\u2713',\"Pass Thru files are conseerved\")\n"
   ]
  },
  {
   "cell_type": "markdown",
   "metadata": {},
   "source": [
    "# Test 2: 60% Departures/40% Arrivals and TNC get 50% and Limo get 50%\n",
    "For this test we are going to allocate 100% of the vehicles to Rental Car Center and make all the peeople be Dropoff (Departing) patrons. \n",
    "\n",
    "We anticipate the following:\n",
    "- 60 vehicles to curbside (A,B,C,D,E)\n",
    "- Depart trips: 36, Arrive trips: 24\n",
    "- 30 vehicles are TNC, 30 vehicles are Limos\n",
    "- No extra Buses added\n",
    "- Pass thru vehicles will be conserved "
   ]
  },
  {
   "cell_type": "code",
   "execution_count": 61,
   "metadata": {},
   "outputs": [
    {
     "name": "stdout",
     "output_type": "stream",
     "text": [
      "          A      B      C      D      E   pass  parking\n",
      "time                                                   \n",
      "100   100.0  100.0  100.0  100.0  100.0  100.0    100.0\n"
     ]
    },
    {
     "data": {
      "application/vnd.jupyter.widget-view+json": {
       "model_id": "b2d597b38c1845c081133c3f295e657c",
       "version_major": 2,
       "version_minor": 0
      },
      "text/plain": [
       "HBox(children=(FloatProgress(value=0.0, max=1.0), HTML(value='')))"
      ]
     },
     "metadata": {},
     "output_type": "display_data"
    },
    {
     "name": "stdout",
     "output_type": "stream",
     "text": [
      "\n",
      "   Arrive_A  Depart_A  Arrive_B  Depart_B  Arrive_C  Depart_C  Arrive_D  \\\n",
      "0      84.0      36.0      84.0      36.0      84.0      36.0      84.0   \n",
      "\n",
      "   Depart_D  Arrive_E  Depart_E  Time  pass_thru  \n",
      "0      36.0      84.0      36.0   100      100.0  \n",
      "Generating Passenger  Demand\n",
      "================================================================================\n",
      "   Arrive_A_people  Arrive_B_people  Arrive_C_people  Arrive_D_people  \\\n",
      "0            142.8            142.8            142.8            142.8   \n",
      "\n",
      "   Arrive_E_people  Depart_A_people  Depart_B_people  Depart_C_people  \\\n",
      "0            142.8             61.2             61.2             61.2   \n",
      "\n",
      "   Depart_D_people  Depart_E_people  Depart_total  Arrival_total  pass_thru  \\\n",
      "0             61.2             61.2         306.0          714.0      100.0   \n",
      "\n",
      "    Total  \n",
      "0  1020.0  \n",
      "Saving to xml:  2017-10-10.TEST.passenger.curb.xml\n",
      "Generating Taxi Demand\n",
      "================================================================================\n",
      "Saving to xml:  2017-10-10.TEST.taxi.curb.xml\n",
      "Generating TNC Demand\n",
      "================================================================================\n",
      "Saving to xml:  2017-10-10.TEST.TNC.curb.xml\n",
      "Generating Limo Demand\n",
      "================================================================================\n",
      "Saving to xml:  2017-10-10.TEST.limo.curb.xml\n",
      "Generating Parking Demand\n",
      "================================================================================\n",
      "Saving to xml:  2017-10-10.TEST.parking.xml\n",
      "Saving to xml:  2017-10-10.TEST.MoreBuses.xml\n",
      "Generating Pass-Thru Demand\n",
      "================================================================================\n",
      "Saving to xml:  2017-10-10.TEST.passthru.xml\n",
      "36\n",
      "Combining:  ../Example_Files/TempDemandXML/2017-10-10.TEST.passthru.xml\n",
      "================================================================================\n",
      "Combining:  ../Example_Files/TempDemandXML/SampleBus.xml\n",
      "================================================================================\n",
      "Combining:  ../Example_Files/TempDemandXML/2017-10-10.TEST.passenger.curb.xml\n",
      "================================================================================\n",
      "Combining:  ../Example_Files/TempDemandXML/2017-10-10.TEST.limo.curb.xml\n",
      "================================================================================\n",
      "Combining:  ../Example_Files/TempDemandXML/2017-10-10.TEST.TNC.curb.xml\n",
      "================================================================================\n",
      "Combining:  ../Example_Files/TempDemandXML/2017-10-10.TEST.MoreBuses.xml\n",
      "================================================================================\n",
      "Combining:  ../Example_Files/TempDemandXML/2017-10-10.TEST.parking.xml\n",
      "================================================================================\n",
      "Combining:  ../Example_Files/TempDemandXML/2017-10-10.TEST.taxi.curb.xml\n",
      "================================================================================\n",
      "Combining:  ../Example_Files/TempDemandXML/Bus_Aug-15-19.xml\n",
      "================================================================================\n",
      "Saving to xml:  2017-10-10.TEST.trips.xml\n"
     ]
    }
   ],
   "source": [
    "master_function(demand=demand,\n",
    "                dwell_times=dwell_time,\n",
    "                Date='2017-10-10',\n",
    "                percentOfPassenger=0, \n",
    "                percentDropOff=.7,\n",
    "                percentPickUp=.3,\n",
    "                percentOfTNC=1,\n",
    "                percentOfTaxi=0,\n",
    "                percentOfTransit=0,\n",
    "                percentOfParking=0,\n",
    "                percentOfLimo=0,\n",
    "                percentOfRental=0,\n",
    "                Delete_Files = False,\n",
    "               level='TEST',\n",
    "               years=0)"
   ]
  },
  {
   "cell_type": "code",
   "execution_count": 62,
   "metadata": {},
   "outputs": [
    {
     "name": "stdout",
     "output_type": "stream",
     "text": [
      "Finding trips of type  _parking_ \n",
      "\n",
      "_parking_  mode has:  0\n",
      "Finding trips of type  _TNC_ \n",
      "\n",
      "Arrive_C_people_TNC_241 \n",
      "\n",
      "_TNC_  mode has:  600\n",
      "Finding trips of type  _passenger_ \n",
      "\n",
      "_passenger_  mode has:  0\n",
      "Finding trips of type  _Taxi_ \n",
      "\n",
      "_Taxi_  mode has:  0\n",
      "Finding trips of type  _Limo_ \n",
      "\n",
      "_Limo_  mode has:  0\n",
      "Finding trips of type  pass_ \n",
      "\n",
      "pass_98 \n",
      "\n",
      "pass_  mode has:  100\n",
      "700\n",
      "✓ Conservation is conserved\n",
      "✓ Pass Thru files are conseerved\n",
      "Finding trips of type  _TNC_ \n",
      "\n",
      "Arrive_C_people_TNC_241 \n",
      "\n",
      "_TNC_  mode has:  600\n",
      "600\n",
      "✓ TNC vehicles roughly add to 600\n",
      "Finding trips of type  _Limo_ \n",
      "\n",
      "_Limo_  mode has:  0\n",
      "✓ Limo vehicles roughly add to 0\n",
      "Finding trips of type  Depart_ \n",
      "\n",
      "Depart_C_people_TNC_497 \n",
      "\n",
      "Depart_  mode has:  180\n",
      "✓ Depart vehicles roughly add to  180.0\n",
      "Finding trips of type  Arrive_ \n",
      "\n",
      "Arrive_C_people_TNC_241 \n",
      "\n",
      "Arrive_  mode has:  420\n",
      "✓ Arrive vehicles roughly add to  420.0\n"
     ]
    }
   ],
   "source": [
    "#Name of trip file\n",
    "trip_file = '2017-10-10.TEST.trips.xml'\n",
    "mode_strings = ['_parking_','_TNC_','_passenger_','_Taxi_','_Limo_','pass_',]\n",
    "percentOfPassenger=0, \n",
    "percentDropOff=.7\n",
    "percentPickUp=.3\n",
    "percentOfTNC=1\n",
    "percentOfTaxi=0\n",
    "percentOfTransit=0\n",
    "percentOfParking=0\n",
    "percentOfLimo=0\n",
    "#calling function\n",
    "conservation = 0\n",
    "count = 0\n",
    "for mode in mode_strings:\n",
    "    num_trip_mode = num_trips_by_mode(trip_file, mode)\n",
    "    if mode == \"pass_\":\n",
    "        pass_thru_mode = num_trip_mode\n",
    "    conservation += num_trip_mode\n",
    "tot = demand[['A','B','C','D','E','pass','parking']].sum().sum()\n",
    "passthru = demand[['pass']].sum()[0]\n",
    "\n",
    "print(conservation)\n",
    "assert conservation == tot\n",
    "print(u'\\u2713',\"Conservation is conserved\")\n",
    "assert pass_thru_mode == passthru\n",
    "print(u'\\u2713',\"Pass Thru files are conseerved\")\n",
    "\n",
    "mode_string = '_TNC_'\n",
    "num_trip_mode = num_trips_by_mode(trip_file, mode_string)\n",
    "expect = (tot-passthru)*percentOfTNC;below = expect-round(expect*.01); above = expect+round(expect*.01)\n",
    "print(expect)\n",
    "assert num_trip_mode >= below and num_trip_mode <= above\n",
    "print(u'\\u2713',\"TNC vehicles roughly add to\",str(expect))\n",
    "\n",
    "mode_string = '_Limo_'\n",
    "num_trip_mode = num_trips_by_mode(trip_file, mode_string)\n",
    "expect = (tot-passthru)*percentOfLimo;below = expect-round(expect*.01); above = expect+round(expect*.01)\n",
    "\n",
    "assert num_trip_mode >= below and num_trip_mode <= above\n",
    "print(u'\\u2713',\"Limo vehicles roughly add to\",str(expect))\n",
    "\n",
    "mode_string = 'Depart_'\n",
    "num_trip_mode = num_trips_by_mode(trip_file, mode_string)\n",
    "expect = round((tot-passthru)*percentPickUp);below = expect-round(expect*.01); above = expect+round(expect*.01)\n",
    "\n",
    "# assert num_trip_mode >= below and num_trip_mode <= above\n",
    "print(u'\\u2713',\"Depart vehicles roughly add to \",str(expect))\n",
    "\n",
    "mode_string = 'Arrive_'\n",
    "num_trip_mode = num_trips_by_mode(trip_file, mode_string)\n",
    "expect = round((tot-passthru)*percentDropOff);below = expect-round(expect*.01); above = expect+round(expect*.01)\n",
    "\n",
    "# assert num_trip_mode >= below and num_trip_mode <= above\n",
    "print(u'\\u2713',\"Arrive vehicles roughly add to \",str(expect))\n"
   ]
  },
  {
   "cell_type": "code",
   "execution_count": 20,
   "metadata": {},
   "outputs": [
    {
     "data": {
      "text/plain": [
       "pass    10\n",
       "dtype: int64"
      ]
     },
     "execution_count": 20,
     "metadata": {},
     "output_type": "execute_result"
    }
   ],
   "source": [
    "demand[['pass']].sum()[0]"
   ]
  },
  {
   "cell_type": "code",
   "execution_count": null,
   "metadata": {},
   "outputs": [],
   "source": []
  }
 ],
 "metadata": {
  "kernelspec": {
   "display_name": "Python 3",
   "language": "python",
   "name": "python3"
  },
  "language_info": {
   "codemirror_mode": {
    "name": "ipython",
    "version": 3
   },
   "file_extension": ".py",
   "mimetype": "text/x-python",
   "name": "python",
   "nbconvert_exporter": "python",
   "pygments_lexer": "ipython3",
   "version": "3.6.8"
  }
 },
 "nbformat": 4,
 "nbformat_minor": 2
}
