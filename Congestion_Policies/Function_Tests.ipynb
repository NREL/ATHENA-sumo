{
 "cells": [
  {
   "cell_type": "code",
   "execution_count": 1,
   "metadata": {},
   "outputs": [
    {
     "name": "stdout",
     "output_type": "stream",
     "text": [
      "Importing Jupyter notebook from Master_Function.ipynb\n"
     ]
    }
   ],
   "source": [
    "import xml.etree.ElementTree as ET\n",
    "from xml.etree.ElementTree import Element\n",
    "from lxml import etree\n",
    "import pandas as pd\n",
    "import nbimporter\n",
    "from Master_Function import master_function\n",
    "import numpy as np"
   ]
  },
  {
   "cell_type": "code",
   "execution_count": 2,
   "metadata": {},
   "outputs": [
    {
     "data": {
      "text/html": [
       "<div>\n",
       "<style scoped>\n",
       "    .dataframe tbody tr th:only-of-type {\n",
       "        vertical-align: middle;\n",
       "    }\n",
       "\n",
       "    .dataframe tbody tr th {\n",
       "        vertical-align: top;\n",
       "    }\n",
       "\n",
       "    .dataframe thead th {\n",
       "        text-align: right;\n",
       "    }\n",
       "</style>\n",
       "<table border=\"1\" class=\"dataframe\">\n",
       "  <thead>\n",
       "    <tr style=\"text-align: right;\">\n",
       "      <th></th>\n",
       "      <th>scheduled_fight_time</th>\n",
       "      <th>parking</th>\n",
       "      <th>pass</th>\n",
       "      <th>A</th>\n",
       "      <th>B</th>\n",
       "      <th>C</th>\n",
       "      <th>D</th>\n",
       "      <th>E</th>\n",
       "      <th>time</th>\n",
       "      <th>month</th>\n",
       "      <th>day</th>\n",
       "      <th>year</th>\n",
       "    </tr>\n",
       "  </thead>\n",
       "  <tbody>\n",
       "    <tr>\n",
       "      <th>0</th>\n",
       "      <td>2017-10-10 00:00:00</td>\n",
       "      <td>1000</td>\n",
       "      <td>1000</td>\n",
       "      <td>1000</td>\n",
       "      <td>1000</td>\n",
       "      <td>1000</td>\n",
       "      <td>1000</td>\n",
       "      <td>1000</td>\n",
       "      <td>1000</td>\n",
       "      <td>10</td>\n",
       "      <td>10</td>\n",
       "      <td>2017</td>\n",
       "    </tr>\n",
       "  </tbody>\n",
       "</table>\n",
       "</div>"
      ],
      "text/plain": [
       "  scheduled_fight_time  parking  pass     A     B     C     D     E  time  \\\n",
       "0  2017-10-10 00:00:00     1000  1000  1000  1000  1000  1000  1000  1000   \n",
       "\n",
       "   month  day  year  \n",
       "0     10   10  2017  "
      ]
     },
     "execution_count": 2,
     "metadata": {},
     "output_type": "execute_result"
    }
   ],
   "source": [
    "dwell_time = pd.read_csv(\"Dwell_Distributions.csv\")\n",
    "demand = pd.DataFrame()\n",
    "columns = ['scheduled_fight_time', 'parking', 'pass', 'A', 'B', 'C', 'D', 'E',\n",
    "       'time', 'month', 'day', 'year']\n",
    "for col in columns:\n",
    "    demand[col] = [1000]\n",
    "demand['scheduled_fight_time'] = ['2017-10-10 00:00:00']\n",
    "demand['year'] = [2017]\n",
    "demand['month'] = [10]\n",
    "demand['day'] = [10]\n",
    "demand.head()"
   ]
  },
  {
   "cell_type": "code",
   "execution_count": 3,
   "metadata": {},
   "outputs": [],
   "source": [
    "def num_trips_by_mode(trip_file, mode_string):\n",
    "    print(\"Finding trips of type \", mode_string, \"\\n\")\n",
    "    \n",
    "    #Read trip file and pa\n",
    "    path_to_trip_file = '../Example_Files/TempInputTrips/' + trip_file\n",
    "    trip_tree = etree.parse(path_to_trip_file)  # parse the trip xml file\n",
    "    mode_trips = trip_tree.xpath('//trip[contains(@id,\"%s\")]' % mode_string)\n",
    "    num_trips = len(mode_trips)\n",
    "    if num_trips > 0: print(mode_trips[0].attrib['id'], \"\\n\")\n",
    "    print(mode_string, \" mode has: \", num_trips)\n",
    "    return num_trips"
   ]
  },
  {
   "cell_type": "markdown",
   "metadata": {},
   "source": [
    "# Test 1: 100% to Rental Car Center\n",
    "For this test we are going to allocate 100% of the vehicles to Rental Car Center and make all the peeople be Dropoff (Departing) patrons. \n",
    "\n",
    "We anticipate the following:\n",
    "- No vehicles to A,B,C,D,E (curbside)\n",
    "- No extra Buses added\n",
    "- Pass thru vehicles will be conserved "
   ]
  },
  {
   "cell_type": "code",
   "execution_count": 4,
   "metadata": {},
   "outputs": [
    {
     "data": {
      "application/vnd.jupyter.widget-view+json": {
       "model_id": "11e7281c447246a196b72abd9c3bf7cc",
       "version_major": 2,
       "version_minor": 0
      },
      "text/plain": [
       "HBox(children=(FloatProgress(value=0.0, max=1.0), HTML(value='')))"
      ]
     },
     "metadata": {},
     "output_type": "display_data"
    },
    {
     "name": "stdout",
     "output_type": "stream",
     "text": [
      "\n",
      "Generating Passenger  Demand\n",
      "================================================================================\n",
      "Saving to xml:  2017-10-10.TEST.passenger.curb.xml\n",
      "Generating Taxi Demand\n",
      "================================================================================\n",
      "Saving to xml:  2017-10-10.TEST.taxi.curb.xml\n",
      "Generating TNC Demand\n",
      "================================================================================\n",
      "Saving to xml:  2017-10-10.TEST.TNC.curb.xml\n",
      "Generating Limo Demand\n",
      "================================================================================\n",
      "Saving to xml:  2017-10-10.TEST.limo.curb.xml\n",
      "Generating Parking Demand\n",
      "================================================================================\n",
      "Saving to xml:  2017-10-10.TEST.parking.xml\n",
      "Saving to xml:  2017-10-10.TEST.MoreBuses.xml\n",
      "Generating Pass-Thru Demand\n",
      "================================================================================\n",
      "Saving to xml:  2017-10-10.TEST.passthru.xml\n",
      "36\n",
      "Combining:  ../Example_Files/TempDemandXML/2017-10-10.TEST.limo.curb.xml\n",
      "================================================================================\n",
      "Combining:  ../Example_Files/TempDemandXML/2017-10-10.TEST.MoreBuses.xml\n",
      "================================================================================\n",
      "Combining:  ../Example_Files/TempDemandXML/2017-10-10.TEST.parking.xml\n",
      "================================================================================\n",
      "Combining:  ../Example_Files/TempDemandXML/2017-10-10.TEST.passenger.curb.xml\n",
      "================================================================================\n",
      "Combining:  ../Example_Files/TempDemandXML/2017-10-10.TEST.passthru.xml\n",
      "================================================================================\n",
      "Combining:  ../Example_Files/TempDemandXML/2017-10-10.TEST.taxi.curb.xml\n",
      "================================================================================\n",
      "Combining:  ../Example_Files/TempDemandXML/2017-10-10.TEST.TNC.curb.xml\n",
      "================================================================================\n",
      "Combining:  ../Example_Files/TempDemandXML/Bus_Aug-15-19.xml\n",
      "================================================================================\n",
      "Combining:  ../Example_Files/TempDemandXML/SampleBus.xml\n",
      "================================================================================\n",
      "Saving to xml:  2017-10-10.TEST.trips.xml\n"
     ]
    }
   ],
   "source": [
    "master_function(demand=demand,\n",
    "                dwell_times=dwell_time,\n",
    "                Date='2017-10-10',\n",
    "                percentOfPassenger=0, \n",
    "                percentDropOff=1,\n",
    "                percentPickUp=0,\n",
    "                percentOfTNC=0,\n",
    "                percentOfTaxi=0,\n",
    "                percentOfTransit=0,\n",
    "                percentOfParking=0,\n",
    "                percentOfLimo=0,\n",
    "                percentOfRental=1,\n",
    "                Delete_Files = False,\n",
    "               level='TEST',\n",
    "               years=0)"
   ]
  },
  {
   "cell_type": "code",
   "execution_count": 7,
   "metadata": {},
   "outputs": [],
   "source": [
    "#Name of trip file\n",
    "trip_file = '2017-10-10.TEST.trips.xml'\n",
    "mode_strings = ['_parking_','_TNC_','_passenger_','_Taxi_','_Limo_','pass_']"
   ]
  },
  {
   "cell_type": "code",
   "execution_count": 8,
   "metadata": {},
   "outputs": [
    {
     "name": "stdout",
     "output_type": "stream",
     "text": [
      "Finding trips of type  _parking_ \n",
      "\n",
      "_parking_  mode has:  0\n",
      "Finding trips of type  _TNC_ \n",
      "\n",
      "_TNC_  mode has:  0\n",
      "Finding trips of type  _passenger_ \n",
      "\n",
      "_passenger_  mode has:  0\n",
      "Finding trips of type  _Taxi_ \n",
      "\n",
      "_Taxi_  mode has:  0\n",
      "Finding trips of type  _Limo_ \n",
      "\n",
      "_Limo_  mode has:  0\n",
      "Finding trips of type  pass_ \n",
      "\n",
      "pass_906 \n",
      "\n",
      "pass_  mode has:  1000\n",
      "✓ Conservation is conserved\n",
      "✓ Pass Thru files are conseerved\n"
     ]
    }
   ],
   "source": [
    "#calling function\n",
    "conservation = 0\n",
    "count = 0\n",
    "for mode in mode_strings:\n",
    "    num_trip_mode = num_trips_by_mode(trip_file, mode)\n",
    "    if mode == \"pass_\":\n",
    "        pass_thru_mode = num_trip_mode\n",
    "    conservation += num_trip_mode\n",
    "    if mode == \"Depart_\":\n",
    "        count+=1\n",
    "assert conservation == 1000\n",
    "print(u'\\u2713',\"Conservation is conserved\")\n",
    "assert pass_thru_mode == 1000\n",
    "print(u'\\u2713',\"Pass Thru files are conseerved\")\n"
   ]
  },
  {
   "cell_type": "markdown",
   "metadata": {},
   "source": [
    "# Test 2: 60% Departures/40% Arrivals and TNC get 50% and Limo get 50%\n",
    "For this test we are going to allocate 100% of the vehicles to Rental Car Center and make all the peeople be Dropoff (Departing) patrons. \n",
    "\n",
    "We anticipate the following:\n",
    "- 60 vehicles to curbside (A,B,C,D,E)\n",
    "- Depart trips: 36, Arrive trips: 24\n",
    "- 30 vehicles are TNC, 30 vehicles are Limos\n",
    "- No extra Buses added\n",
    "- Pass thru vehicles will be conserved "
   ]
  },
  {
   "cell_type": "code",
   "execution_count": 5,
   "metadata": {},
   "outputs": [
    {
     "data": {
      "application/vnd.jupyter.widget-view+json": {
       "model_id": "ea29b98f56f54836b7665ccf7a0d5657",
       "version_major": 2,
       "version_minor": 0
      },
      "text/plain": [
       "HBox(children=(FloatProgress(value=0.0, max=1.0), HTML(value='')))"
      ]
     },
     "metadata": {},
     "output_type": "display_data"
    },
    {
     "name": "stdout",
     "output_type": "stream",
     "text": [
      "\n",
      "Generating Passenger  Demand\n",
      "================================================================================\n",
      "Saving to xml:  2017-10-10.TEST.passenger.curb.xml\n",
      "Generating Taxi Demand\n",
      "================================================================================\n",
      "Saving to xml:  2017-10-10.TEST.taxi.curb.xml\n",
      "Generating TNC Demand\n",
      "================================================================================\n",
      "Saving to xml:  2017-10-10.TEST.TNC.curb.xml\n",
      "Generating Limo Demand\n",
      "================================================================================\n",
      "Saving to xml:  2017-10-10.TEST.limo.curb.xml\n",
      "Generating Parking Demand\n",
      "================================================================================\n",
      "Saving to xml:  2017-10-10.TEST.parking.xml\n",
      "Saving to xml:  2017-10-10.TEST.MoreBuses.xml\n",
      "Generating Pass-Thru Demand\n",
      "================================================================================\n",
      "Saving to xml:  2017-10-10.TEST.passthru.xml\n",
      "36\n",
      "Combining:  ../Example_Files/TempDemandXML/2017-10-10.TEST.limo.curb.xml\n",
      "================================================================================\n",
      "Combining:  ../Example_Files/TempDemandXML/2017-10-10.TEST.MoreBuses.xml\n",
      "================================================================================\n",
      "Combining:  ../Example_Files/TempDemandXML/2017-10-10.TEST.parking.xml\n",
      "================================================================================\n",
      "Combining:  ../Example_Files/TempDemandXML/2017-10-10.TEST.passenger.curb.xml\n",
      "================================================================================\n",
      "Combining:  ../Example_Files/TempDemandXML/2017-10-10.TEST.passthru.xml\n",
      "================================================================================\n",
      "Combining:  ../Example_Files/TempDemandXML/2017-10-10.TEST.taxi.curb.xml\n",
      "================================================================================\n",
      "Combining:  ../Example_Files/TempDemandXML/2017-10-10.TEST.TNC.curb.xml\n",
      "================================================================================\n",
      "Combining:  ../Example_Files/TempDemandXML/Bus_Aug-15-19.xml\n",
      "================================================================================\n",
      "Combining:  ../Example_Files/TempDemandXML/SampleBus.xml\n",
      "================================================================================\n",
      "Saving to xml:  2017-10-10.TEST.trips.xml\n"
     ]
    }
   ],
   "source": [
    "master_function(demand=demand,\n",
    "                dwell_times=dwell_time,\n",
    "                Date='2017-10-10',\n",
    "                percentOfPassenger=0, \n",
    "                percentDropOff=.6,\n",
    "                percentPickUp=.4,\n",
    "                percentOfTNC=.5,\n",
    "                percentOfTaxi=0,\n",
    "                percentOfTransit=0,\n",
    "                percentOfParking=0,\n",
    "                percentOfLimo=.5,\n",
    "                percentOfRental=0,\n",
    "                Delete_Files = False,\n",
    "               level='TEST',\n",
    "               years=0)"
   ]
  },
  {
   "cell_type": "code",
   "execution_count": 5,
   "metadata": {},
   "outputs": [
    {
     "name": "stdout",
     "output_type": "stream",
     "text": [
      "Finding trips of type  _parking_ \n",
      "\n",
      "_parking_  mode has:  0\n",
      "Finding trips of type  _TNC_ \n",
      "\n",
      "Arrive_C_people_TNC_757 \n",
      "\n",
      "_TNC_  mode has:  3015\n",
      "Finding trips of type  _passenger_ \n",
      "\n",
      "_passenger_  mode has:  0\n",
      "Finding trips of type  _Taxi_ \n",
      "\n",
      "_Taxi_  mode has:  0\n",
      "Finding trips of type  _Limo_ \n",
      "\n",
      "Arrive_E_people_Limo_1742 \n",
      "\n",
      "_Limo_  mode has:  3015\n",
      "Finding trips of type  pass_ \n",
      "\n",
      "pass_654 \n",
      "\n",
      "pass_  mode has:  1000\n",
      "7030\n",
      "✓ Conservation is conserved\n",
      "✓ Pass Thru files are conseerved\n",
      "Finding trips of type  _TNC_ \n",
      "\n",
      "Arrive_C_people_TNC_757 \n",
      "\n",
      "_TNC_  mode has:  3015\n",
      "✓ TNC vehicles roughly add to 3000\n",
      "Finding trips of type  _Limo_ \n",
      "\n",
      "Arrive_E_people_Limo_1742 \n",
      "\n",
      "_Limo_  mode has:  3015\n",
      "✓ Limo vehicles roughly add to 3000\n",
      "Finding trips of type  Depart_ \n",
      "\n",
      "Depart_D_people_TNC_2683 \n",
      "\n",
      "Depart_  mode has:  2410\n",
      "✓ Depart vehicles roughly add to  2400\n",
      "Finding trips of type  Arrive_ \n",
      "\n",
      "Arrive_C_people_TNC_757 \n",
      "\n",
      "Arrive_  mode has:  3620\n",
      "✓ Arrive vehicles roughly add to  3600\n"
     ]
    }
   ],
   "source": [
    "#Name of trip file\n",
    "trip_file = '2017-10-10.TEST.trips.xml'\n",
    "mode_strings = ['_parking_','_TNC_','_passenger_','_Taxi_','_Limo_','pass_',]\n",
    "\n",
    "#calling function\n",
    "conservation = 0\n",
    "count = 0\n",
    "for mode in mode_strings:\n",
    "    num_trip_mode = num_trips_by_mode(trip_file, mode)\n",
    "    if mode == \"pass_\":\n",
    "        pass_thru_mode = num_trip_mode\n",
    "    conservation += num_trip_mode\n",
    "    \n",
    "print(conservation)\n",
    "assert conservation in np.arange(6730,7070,1)\n",
    "print(u'\\u2713',\"Conservation is conserved\")\n",
    "assert pass_thru_mode == 1000\n",
    "print(u'\\u2713',\"Pass Thru files are conseerved\")\n",
    "\n",
    "mode_string = '_TNC_'\n",
    "num_trip_mode = num_trips_by_mode(trip_file, mode_string)\n",
    "expect = 3000;below = expect-round(expect*.01); above = expect+round(expect*.01)\n",
    "acceptable_range = np.arange(below,above,1)\n",
    "assert num_trip_mode in acceptable_range\n",
    "print(u'\\u2713',\"TNC vehicles roughly add to 3000\")\n",
    "\n",
    "mode_string = '_Limo_'\n",
    "num_trip_mode = num_trips_by_mode(trip_file, mode_string)\n",
    "expect = 3000;below = expect-round(expect*.01); above = expect+round(expect*.01)\n",
    "acceptable_range = np.arange(below,above,1)\n",
    "assert num_trip_mode in acceptable_range\n",
    "print(u'\\u2713',\"Limo vehicles roughly add to 3000\")\n",
    "\n",
    "mode_string = 'Depart_'\n",
    "num_trip_mode = num_trips_by_mode(trip_file, mode_string)\n",
    "expect = round(6000*.4);below = expect-round(expect*.01); above = expect+round(expect*.01)\n",
    "acceptable_range = np.arange(below,above,1)\n",
    "assert num_trip_mode in acceptable_range\n",
    "print(u'\\u2713',\"Depart vehicles roughly add to \",str(expect))\n",
    "\n",
    "mode_string = 'Arrive_'\n",
    "num_trip_mode = num_trips_by_mode(trip_file, mode_string)\n",
    "expect = round(6000*.6);below = expect-round(expect*.01); above = expect+round(expect*.01)\n",
    "acceptable_range = np.arange(below,above,1)\n",
    "assert num_trip_mode in acceptable_range\n",
    "print(u'\\u2713',\"Arrive vehicles roughly add to \",str(expect))\n"
   ]
  },
  {
   "cell_type": "code",
   "execution_count": null,
   "metadata": {},
   "outputs": [],
   "source": []
  }
 ],
 "metadata": {
  "kernelspec": {
   "display_name": "Python [conda env:AthenaSumo]",
   "language": "python",
   "name": "conda-env-AthenaSumo-py"
  },
  "language_info": {
   "codemirror_mode": {
    "name": "ipython",
    "version": 3
   },
   "file_extension": ".py",
   "mimetype": "text/x-python",
   "name": "python",
   "nbconvert_exporter": "python",
   "pygments_lexer": "ipython3",
   "version": "3.6.8"
  }
 },
 "nbformat": 4,
 "nbformat_minor": 2
}
