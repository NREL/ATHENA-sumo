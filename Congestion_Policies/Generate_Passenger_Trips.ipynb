{
 "cells": [
  {
   "cell_type": "markdown",
   "metadata": {},
   "source": [
    "# GENERATE PASSENGER CURBSIDE DEMAND\n",
    "\n",
    "This module takes the arrival and departure demand along with the mode choice percentage and extracts the appropriate amount of demand from the people demand and converts it to cars. \n",
    "\n",
    "```python\n",
    "def create_sumo_demand_passenger_curbside(people,\n",
    "              percentOfPassenger=.35,\n",
    "              stops=stop_dict = {\n",
    "                \"A\":['A_top_1','A_top_2','A_top_3','A_bot_1','A_bot_2','A_bot_3'],\n",
    "                \"B\":['B_top_1','B_top_2','B_top_3','B_bot_1','B_bot_2','B_bot_3'],\n",
    "                \"C\":['C_top_1','C_top_2','C_top_3','C_bot_1','C_bot_2','C_bot_3'],\n",
    "                \"D\":['D_depart_1','D_depart_2','D_arrive_1','D_arrive_2','D_service'],\n",
    "                \"E\":['E_top_1','E_top_2','E_top_3','E_bot_1','E_bot_2','E_bot_3'],\n",
    "\n",
    "                },\n",
    "             end_weight = [.2,.8],\n",
    "             start_weights = [.225,.225,.275,.275],\n",
    "             stop_duration = np.random.exponential(20,1000) + np.random.normal(60,5,1000),\n",
    "                                         ):\n",
    "```\n",
    "\n",
    "> - **people:** *DataFrame* - is the people demand for the \n",
    "> - **percentOFPassenger** *Float* - perecent of passengers going to curb\n",
    "> - **stops** *Dictionary* - informs the stops for the passenger vehicles\n",
    "> - **end_weight** *List* - list of floats that add to 1. Informs the destination of each trip. \n",
    "> - **start_weights** *List or Array* - list of floats that add to 1. Informs the origin of each trip.\n",
    "> - **stop_duration** *List or Array* - distribution of dwell times on the curb\n",
    "\n"
   ]
  },
  {
   "cell_type": "code",
   "execution_count": null,
   "metadata": {},
   "outputs": [],
   "source": [
    "from __future__ import print_function\n",
    "import xml.etree.ElementTree as ET\n",
    "from xml.etree.ElementTree import Element, SubElement, Comment\n",
    "from lxml import etree\n",
    "from copy import copy\n",
    "import os\n",
    "import inspect\n",
    "from xml.dom import minidom\n",
    "import pandas as pd\n",
    "import numpy as np\n",
    "import random\n",
    "import matplotlib.pyplot as plt\n",
    "import seaborn as sns\n",
    "import sys\n",
    "from datetime import datetime\n",
    "sys.path.insert(0, os.path.abspath('../Generate_SUMO_demand/'))\n",
    "import DFW_gen_flow as gf\n",
    "import ipywidgets as widgets\n",
    "from ipywidgets import interact, interactive, fixed, interact_manual\n",
    "from ipywidgets import ToggleButtons\n",
    "\n"
   ]
  },
  {
   "cell_type": "code",
   "execution_count": null,
   "metadata": {},
   "outputs": [],
   "source": [
    "Date = '2018-5-13' \n"
   ]
  },
  {
   "cell_type": "code",
   "execution_count": null,
   "metadata": {},
   "outputs": [],
   "source": [
    "folder = \"../Example_Files/Demand_CSV\"\n",
    "selected = pd.read_csv(\"selected_demand.csv\")\n",
    "level = selected.loc[selected['Date'] == Date]['Volume_Category'].item()\n",
    "file_name = Date + '.' + level +\".people.csv\"\n",
    "people = pd.read_csv(os.path.join(folder,file_name),index_col=[0])\n",
    "\n",
    "people.head()"
   ]
  },
  {
   "cell_type": "code",
   "execution_count": null,
   "metadata": {},
   "outputs": [],
   "source": [
    "def create_sumo_demand_passenger_curbside(people,\n",
    "                                          level,\n",
    "                                          percentOfPassenger=.309,\n",
    "                                          peopleToCars=1.7,\n",
    "                                          stops= {\n",
    "        \"A\":['A_top_1','A_top_2','A_top_3','A_bot_1','A_bot_2','A_bot_3'],\n",
    "        \"B\":['B_top_1','B_top_2','B_top_3','B_bot_1','B_bot_2','B_bot_3'],\n",
    "        \"C\":['C_top_1','C_top_2','C_top_3','C_bot_1','C_bot_2','C_bot_3'],\n",
    "        \"D\":['D_depart_1','D_depart_2','D_arrive_1','D_arrive_2','D_service'],\n",
    "        \"E\":['E_top_1','E_top_2','E_top_3','E_bot_1','E_bot_2','E_bot_3'],\n",
    "        \n",
    "        },\n",
    "                                         end_weight = [.2,.8],\n",
    "                                         start_weights = [.225,.225,.275,.275],\n",
    "                                         stop_duration = np.random.exponential(20,10000) + np.random.normal(60,5,10000),\n",
    "                                         ):\n",
    "    \n",
    "    end_weight_south = end_weight[::-1]\n",
    "    \n",
    "    columns = ['Arrive_A_people','Arrive_B_people','Arrive_C_people','Arrive_D_people',\n",
    "               'Arrive_E_people','Depart_A_people','Depart_B_people',\n",
    "               'Depart_C_people','Depart_D_people','Depart_E_people']\n",
    "    starts = ['South_1', 'South_Plaza', 'North_Plaza', 'North_1']\n",
    "    ends = ['South_Exit', 'North_Exit']\n",
    "    routes = Element('routes')\n",
    "    routes.set('xmlns:xsi','http://www.w3.org/2001/XMLSchema-instance')\n",
    "    routes.set('xsi:noNamespaceSchemaLocation', 'http://sumo.dlr.de/xsd/routes_file.xsd')\n",
    "    people['seconds'] = np.array(people.index) * 30 * 60\n",
    "    count = 1\n",
    "    \n",
    "    for column in columns:\n",
    "        column_string = column.split('_')\n",
    "        terminal = column_string[1]\n",
    "        for t,numberOfPeople in enumerate(people[column]):\n",
    "            numberOfVehicles = round((numberOfPeople/peopleToCars) * percentOfPassenger)\n",
    "            for i in range(numberOfVehicles):\n",
    "                time = people['seconds'][t] + round(np.random.uniform(0,1800))\n",
    "                start = np.random.choice(starts,p=start_weights )\n",
    "                stop = np.random.choice(stops[terminal])\n",
    "                if start[0] == \"S\":\n",
    "                    p = end_weight_south\n",
    "                else:\n",
    "                    p = end_weight\n",
    "                end = np.random.choice(ends,p=p)\n",
    "                trip = Element('trip')\n",
    "                trip.set('id', column + '_passenger_' + str(count))\n",
    "                trip.set('type', 'passenger')\n",
    "                trip.set('color', \"#bb0000\")\n",
    "                trip.set('depart',str(time))\n",
    "                trip.set('from',start)\n",
    "                trip.set('to',end)\n",
    "                trip.set('departSpeed', \"max\")\n",
    "                trip.set('departLane', \"best\")\n",
    "                \n",
    "                count+=1\n",
    "                routes.append(trip)\n",
    "                duration = str(np.random.choice(stop_duration))\n",
    "                \n",
    "                ET.SubElement(trip,\"stop\",busStop=stop,duration=duration,parking='true')\n",
    "\n",
    "    routes[:] = sorted(routes, key=lambda child: (child.tag,float(child.get('depart'))))\n",
    "\n",
    "    file_name = Date + \".\" + level+ \".passenger.curb.xml\"\n",
    "    folder = \"../Example_Files/TempDemandXML\"\n",
    "    print(\"Saving to xml: \", file_name)\n",
    "        \n",
    "    with open(os.path.join(folder,file_name), 'wb') as f:\n",
    "        f.write(minidom.parseString(ET.tostring(routes)).toprettyxml(encoding=\"utf-8\"))"
   ]
  },
  {
   "cell_type": "code",
   "execution_count": null,
   "metadata": {},
   "outputs": [],
   "source": [
    "create_sumo_demand_passenger_curbside(people,level)"
   ]
  },
  {
   "cell_type": "code",
   "execution_count": null,
   "metadata": {},
   "outputs": [],
   "source": [
    "plt.hist(np.random.exponential(20,1000) + np.random.normal(60,5,1000),bins=100)\n",
    "plt.show()"
   ]
  },
  {
   "cell_type": "code",
   "execution_count": null,
   "metadata": {},
   "outputs": [],
   "source": []
  }
 ],
 "metadata": {
  "kernelspec": {
   "display_name": "Python 3",
   "language": "python",
   "name": "python3"
  },
  "language_info": {
   "codemirror_mode": {
    "name": "ipython",
    "version": 3
   },
   "file_extension": ".py",
   "mimetype": "text/x-python",
   "name": "python",
   "nbconvert_exporter": "python",
   "pygments_lexer": "ipython3",
   "version": "3.6.8"
  }
 },
 "nbformat": 4,
 "nbformat_minor": 2
}
