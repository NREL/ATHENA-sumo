{
 "cells": [
  {
   "cell_type": "markdown",
   "metadata": {},
   "source": [
    "## This notebook defines a function \"create_lane_closure\" to close lanes in SUMO network\n",
    "The function creates an xml file that is used as additional-file with a SUMO simulation"
   ]
  },
  {
   "cell_type": "code",
   "execution_count": 11,
   "metadata": {},
   "outputs": [],
   "source": [
    "import xml.etree.ElementTree as ET\n",
    "from xml.etree.ElementTree import Element\n",
    "import random\n",
    "from xml.dom import minidom"
   ]
  },
  {
   "cell_type": "markdown",
   "metadata": {},
   "source": [
    "### Example Reroute Additional File"
   ]
  },
  {
   "cell_type": "code",
   "execution_count": 12,
   "metadata": {},
   "outputs": [
    {
     "data": {
      "text/plain": [
       "'\\n<additional>\\n  <rerouter id=\"try_1\" edges=\"1527 -1527\" probability=\"0.1\">\\n      <interval begin=\"1\" end=\"1000\">\\n         <closingReroute id=\"1527\" disallow=\"passenger truck\"/>\\n         <closingReroute id=\"-1527\" disallow=\"truck\"/>\\n      </interval>\\n   </rerouter>\\n</additional>\\n'"
      ]
     },
     "execution_count": 12,
     "metadata": {},
     "output_type": "execute_result"
    }
   ],
   "source": [
    "'''\n",
    "<additional>\n",
    "  <rerouter id=\"try_1\" edges=\"1527 -1527\" probability=\"0.1\">\n",
    "      <interval begin=\"1\" end=\"1000\">\n",
    "         <closingReroute id=\"1527\" disallow=\"passenger truck\"/>\n",
    "         <closingReroute id=\"-1527\" disallow=\"truck\"/>\n",
    "      </interval>\n",
    "   </rerouter>\n",
    "</additional>\n",
    "'''"
   ]
  },
  {
   "cell_type": "code",
   "execution_count": 16,
   "metadata": {},
   "outputs": [],
   "source": [
    "'''\n",
    "reroute_edges: list of edge ids (string) where vehicle rerouting will happen\n",
    "lanes_to_close: list of lane ids (string) to close\n",
    "reroute_prob: probability (float) that a vehicle passing a rerouting edge can reroute\n",
    "disallow_vehs: list of vehicle types (string) to disallow on closed lanes\n",
    "begin: time (in seconds) when the lane closures start \n",
    "end: time (in seconds) when the lane closures end\n",
    "file_name: name (string) of lane closure additional file\n",
    "'''\n",
    "\n",
    "def create_lane_closures(reroute_edges, lanes_to_close, begin, end, reroute_prob = 1, \n",
    "                        disallow_vehs = ['passenger'], file_name = 'lane_closures.xml'):\n",
    "    if len(reroute_edges) == 0 or len(lanes_to_close) == 0:\n",
    "        print('Missing edge ids where to reroute or lane ids for lane closures')\n",
    "        return\n",
    "    elif begin < 0: \n",
    "        print('begin second is less than zero')\n",
    "        return\n",
    "    else:\n",
    "        xadditional = Element('additional')\n",
    "\n",
    "        xrerouter = Element('rerouter')\n",
    "        xadditional.append(xrerouter)\n",
    "        xrerouter.set('id','rerouter'+str(len(lanes_to_close)))\n",
    "        \n",
    "        i = 1\n",
    "        edges_str = \"\"\n",
    "        for edge in reroute_edges:\n",
    "            if i == 1: edges_str = edge\n",
    "            else: edges_str = edges_str + \" \" + edge\n",
    "            i = i + 1\n",
    "\n",
    "        xrerouter.set('edges', edges_str)\n",
    "        xrerouter.set('probability', str(reroute_prob))\n",
    "\n",
    "        xinterval = Element('interval')\n",
    "        xrerouter.append(xinterval)\n",
    "        xinterval.set('begin', str(begin))\n",
    "        xinterval.set('end', str(end))\n",
    "\n",
    "        for lane in lanes_to_close:\n",
    "            xclosing = Element('closingLaneReroute')\n",
    "            xinterval.append(xclosing)\n",
    "            xclosing.set('id', lane)\n",
    "            \n",
    "            j = 1;\n",
    "            for veh in disallow_vehs:\n",
    "                if j == 1: veh_str = veh\n",
    "                else: veh_str = veh_str + \" \" + veh\n",
    "                j = j + 1\n",
    "            xclosing.set('disallow', veh_str)\n",
    "\n",
    "        # Writing down the xml file\n",
    "        configfile = file_name\n",
    "        with open(configfile, 'w') as f:\n",
    "            f.write(minidom.parseString(ET.tostring(xadditional)).toprettyxml(indent=\"\\t\"))"
   ]
  },
  {
   "cell_type": "code",
   "execution_count": 21,
   "metadata": {},
   "outputs": [],
   "source": [
    "#Example to use the function\n",
    "reroute_edges = ['1527', '-1527']\n",
    "lanes_to_close = ['1527_0', '-1527_0']\n",
    "# disallow_vehs = ['passenger']\n",
    "# reroute_prob = 0.5\n",
    "begin = 0\n",
    "end = 1000\n",
    "name = 'add.xml'"
   ]
  },
  {
   "cell_type": "code",
   "execution_count": 22,
   "metadata": {},
   "outputs": [],
   "source": [
    "#calling create_lane_closure function\n",
    "create_lane_closures(reroute_edges, lanes_to_close, begin, end)"
   ]
  },
  {
   "cell_type": "code",
   "execution_count": null,
   "metadata": {},
   "outputs": [],
   "source": []
  },
  {
   "cell_type": "code",
   "execution_count": null,
   "metadata": {},
   "outputs": [],
   "source": []
  },
  {
   "cell_type": "code",
   "execution_count": null,
   "metadata": {},
   "outputs": [],
   "source": []
  },
  {
   "cell_type": "code",
   "execution_count": null,
   "metadata": {},
   "outputs": [],
   "source": []
  },
  {
   "cell_type": "code",
   "execution_count": null,
   "metadata": {},
   "outputs": [],
   "source": []
  }
 ],
 "metadata": {
  "kernelspec": {
   "display_name": "Python (Reg_Mobility)",
   "language": "python",
   "name": "reg_mobility"
  },
  "language_info": {
   "codemirror_mode": {
    "name": "ipython",
    "version": 3
   },
   "file_extension": ".py",
   "mimetype": "text/x-python",
   "name": "python",
   "nbconvert_exporter": "python",
   "pygments_lexer": "ipython3",
   "version": "3.7.2"
  }
 },
 "nbformat": 4,
 "nbformat_minor": 2
}
