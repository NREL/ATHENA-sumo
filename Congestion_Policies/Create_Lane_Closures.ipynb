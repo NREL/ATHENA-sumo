{
 "cells": [
  {
   "cell_type": "markdown",
   "metadata": {},
   "source": [
    "## This notebook defines a function \"create_lane_closure\" to close lanes in DFW SUMO network\n",
    "The function creates an xml file that is used as additional-file with a SUMO simulation"
   ]
  },
  {
   "cell_type": "code",
   "execution_count": 1,
   "metadata": {},
   "outputs": [],
   "source": [
    "import xml.etree.ElementTree as ET\n",
    "from xml.etree.ElementTree import Element\n",
    "import random\n",
    "from xml.dom import minidom"
   ]
  },
  {
   "cell_type": "markdown",
   "metadata": {},
   "source": [
    "### Example Reroute Additional File"
   ]
  },
  {
   "cell_type": "code",
   "execution_count": 2,
   "metadata": {},
   "outputs": [
    {
     "data": {
      "text/plain": [
       "'\\n<additional>\\n  <rerouter id=\"try_1\" edges=\"1527 -1527\" probability=\"0.1\">\\n      <interval begin=\"1\" end=\"1000\">\\n         <closingReroute id=\"1527\" disallow=\"passenger truck\"/>\\n         <closingReroute id=\"-1527\" disallow=\"truck\"/>\\n      </interval>\\n   </rerouter>\\n</additional>\\n'"
      ]
     },
     "execution_count": 2,
     "metadata": {},
     "output_type": "execute_result"
    }
   ],
   "source": [
    "'''\n",
    "<additional>\n",
    "  <rerouter id=\"try_1\" edges=\"1527 -1527\" probability=\"0.1\">\n",
    "      <interval begin=\"1\" end=\"1000\">\n",
    "         <closingReroute id=\"1527\" disallow=\"passenger truck\"/>\n",
    "         <closingReroute id=\"-1527\" disallow=\"truck\"/>\n",
    "      </interval>\n",
    "   </rerouter>\n",
    "</additional>\n",
    "'''"
   ]
  },
  {
   "cell_type": "code",
   "execution_count": null,
   "metadata": {},
   "outputs": [],
   "source": [
    "# Shuttle bus trips at DFW, use their origin edges as reroute edges to enable vehicles to reroute on lane closures\n",
    "Buses = {'Employee_Bus': {'EMP-6EC': {'start':'E_bot_2', \"stops\":[\"C_bot_2\"]},\n",
    "  'EMP-A': {'start':'park_north_emp_2', \"stops\":['A_bot_2']},\n",
    "  'EMP-B': {'start':'park_north_emp_2', \"stops\":['B_bot_2','E_bot_2']},\n",
    "  'EMP-DN': {'start':'park_north_emp_2', \"stops\":['D_service']},\n",
    "  'EMP-DS': {'start':'park_north_emp_2', \"stops\":['D_service']},\n",
    "  'EMP-E': {'start':'park_north_emp_2', \"stops\":['E_bot_2']}},\n",
    "'Remote_Shuttle': {'Remote-AC': {'start':'Remote_North', 'stops':['A_bot_1','C_bot_2','Remote_South']},\n",
    "  'Remote-D': {'start':'Remote_North', 'stops':['D_service', 'Remote_South']},\n",
    "  'Remote-EB': {'start':'Remote_North', 'stops':['B_bot_2', 'E_bot_2', 'Remote_South']}},\n",
    "'Express Shuttle': {'EXP-N': {'start':'park_north_emp_2', 'stops':['A_bot_2','B_bot_2','C_bot_2','D_service','E_bot_2']},\n",
    "  'EXP-S': {'start':'Express_South','stops':['A_bot_2','B_bot_2','C_bot_2','D_service','E_bot_2']}},\n",
    "'Link Shuttle': {'LINK': {'start':'A_bot_1','stops':['B_bot_1','C_bot_1','D_service','E_bot_1']}},\n",
    "'Terminal_CD': {'C/D': {'start':'C_bot_2','stops':['D_service','D_arrive_2']}},\n",
    "'Terminal E': {'Special_E': {'start':'E_bot_2','stops':['E_top_1']}}}\n",
    "\n",
    "'''\n",
    "Only the origins:\n",
    "E_bot_2\n",
    "park_north_emp_2\n",
    "park_north_emp_2\n",
    "park_north_emp_2\n",
    "park_north_emp_2\n",
    "park_north_emp_2\n",
    "Remote_North\n",
    "Remote_North\n",
    "Remote_North\n",
    "park_north_emp_2\n",
    "Express_South\n",
    "A_bot_1\n",
    "C_bot_2\n",
    "E_bot_2\n",
    "'''\n",
    "'''\n",
    "Added 'RAC_pic' AND 'RAC_drop' for rental car facility\n",
    "'''"
   ]
  },
  {
   "cell_type": "code",
   "execution_count": 22,
   "metadata": {},
   "outputs": [],
   "source": [
    "'''\n",
    "Function to create lane closures\n",
    "edges_to_close: a dictionary where keys are edge ids (string) to close, and the value per key is the number of lanes\n",
    "to close for each edge\n",
    "reroute_edges: list of edge ids (string) where vehicle rerouting will happen, default edges provided as origins of \n",
    "most trips in DFW\n",
    "reroute_prob: probability (float) that a vehicle passing a rerouting edge can reroute\n",
    "disallow_vehs: list of vehicle types (string) to disallow on closed lanes\n",
    "begin: time (in seconds) when the lane closures start \n",
    "end: time (in seconds) when the lane closures end\n",
    "file_name: name (string) of lane closure additional file\n",
    "'''\n",
    "# Fixme: specify edges to close and number of lanes instead of a list of lanes\n",
    "# Fixme: let default be all vehicle types not allowed\n",
    "def create_lane_closures(edges_to_close, begin, end, \n",
    "                         reroute_edges=['North_Plaza','South_Plaza','E_bot_2','park_north_emp_2','Remote_North',\n",
    "                                        'Express_South', 'A_bot_1','C_bot_2','E_bot_2','RAC_pick','RAC_drop'],\n",
    "                         reroute_prob = 1, disallow_vehs = ['passenger','bus'], file_name = 'lane_closures.xml'):\n",
    "    \n",
    "    # First create the filename that contain the list of edges being closed\n",
    "    prefix = 'close_'+'_'.join(edges_to_close.keys())\n",
    "    file_name = prefix+'.xml' \n",
    "    \n",
    "    if len(reroute_edges) == 0 or len(edges_to_close.keys()) == 0:\n",
    "        print('Missing edge ids where to reroute or edge ids for lane closures')\n",
    "        return\n",
    "    elif begin < 0: \n",
    "        print('begin second is less than zero')\n",
    "        return\n",
    "    else:\n",
    "        xadditional = Element('additional')\n",
    "\n",
    "        xrerouter = Element('rerouter')\n",
    "        xadditional.append(xrerouter)\n",
    "        xrerouter.set('id',prefix)\n",
    "        \n",
    "        i = 1\n",
    "        edges_str = \"\"\n",
    "        for edge in reroute_edges:\n",
    "            if i == 1: edges_str = edge\n",
    "            else: edges_str = edges_str + \" \" + edge\n",
    "            i = i + 1\n",
    "\n",
    "        xrerouter.set('edges', edges_str)\n",
    "        xrerouter.set('probability', str(reroute_prob))\n",
    "\n",
    "        xinterval = Element('interval')\n",
    "        xrerouter.append(xinterval)\n",
    "        xinterval.set('begin', str(begin))\n",
    "        xinterval.set('end', str(end))\n",
    "\n",
    "        for edge in edges_to_close:\n",
    "            for i in range(0,edges_to_close[edge]):\n",
    "                xclosing = Element('closingLaneReroute')\n",
    "                xinterval.append(xclosing)\n",
    "                xclosing.set('id', edge+'_'+str(i))\n",
    "\n",
    "                j = 1;\n",
    "                for veh in disallow_vehs:\n",
    "                    if j == 1: veh_str = veh\n",
    "                    else: veh_str = veh_str + \" \" + veh\n",
    "                    j = j + 1\n",
    "                xclosing.set('disallow', veh_str)\n",
    "\n",
    "        # Writing down the xml file\n",
    "        configfile = file_name\n",
    "        with open(configfile, 'w') as f:\n",
    "            f.write(minidom.parseString(ET.tostring(xadditional)).toprettyxml(indent=\"\\t\"))"
   ]
  },
  {
   "cell_type": "markdown",
   "metadata": {},
   "source": [
    "### Example below showing how to use the function:"
   ]
  },
  {
   "cell_type": "code",
   "execution_count": 19,
   "metadata": {},
   "outputs": [],
   "source": [
    "edges_to_close = {'A_top_1':2, 'C_top_1':1}"
   ]
  },
  {
   "cell_type": "code",
   "execution_count": 14,
   "metadata": {},
   "outputs": [],
   "source": [
    "begin = 0\n",
    "end = 1000"
   ]
  },
  {
   "cell_type": "code",
   "execution_count": 20,
   "metadata": {},
   "outputs": [],
   "source": [
    "#calling create_lane_closure function\n",
    "create_lane_closures(edges_to_close,begin, end)"
   ]
  },
  {
   "cell_type": "code",
   "execution_count": null,
   "metadata": {},
   "outputs": [],
   "source": []
  },
  {
   "cell_type": "code",
   "execution_count": null,
   "metadata": {},
   "outputs": [],
   "source": []
  },
  {
   "cell_type": "code",
   "execution_count": null,
   "metadata": {},
   "outputs": [],
   "source": []
  }
 ],
 "metadata": {
  "@webio": {
   "lastCommId": null,
   "lastKernelId": null
  },
  "kernelspec": {
   "display_name": "Python (Athena)",
   "language": "python",
   "name": "athena"
  },
  "language_info": {
   "codemirror_mode": {
    "name": "ipython",
    "version": 3
   },
   "file_extension": ".py",
   "mimetype": "text/x-python",
   "name": "python",
   "nbconvert_exporter": "python",
   "pygments_lexer": "ipython3",
   "version": "3.6.8"
  }
 },
 "nbformat": 4,
 "nbformat_minor": 2
}
