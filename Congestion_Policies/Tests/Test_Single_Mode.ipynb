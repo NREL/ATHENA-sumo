{
 "cells": [
  {
   "cell_type": "code",
   "execution_count": 1,
   "metadata": {},
   "outputs": [],
   "source": [
    "import xml.etree.ElementTree as ET\n",
    "from xml.etree.ElementTree import Element\n",
    "from lxml import etree\n",
    "import pandas as pd\n",
    "import nbimporter"
   ]
  },
  {
   "cell_type": "code",
   "execution_count": 2,
   "metadata": {},
   "outputs": [],
   "source": [
    "import os\n",
    "import sys"
   ]
  },
  {
   "cell_type": "code",
   "execution_count": 3,
   "metadata": {},
   "outputs": [],
   "source": [
    "module_path = os.path.abspath(os.path.join('..'))\n",
    "if module_path not in sys.path:\n",
    "    sys.path.append(module_path)"
   ]
  },
  {
   "cell_type": "code",
   "execution_count": 4,
   "metadata": {},
   "outputs": [
    {
     "data": {
      "text/plain": [
       "['/Users/jugirumu/anaconda2/envs/AthenaSumo/lib/python36.zip',\n",
       " '/Users/jugirumu/anaconda2/envs/AthenaSumo/lib/python3.6',\n",
       " '/Users/jugirumu/anaconda2/envs/AthenaSumo/lib/python3.6/lib-dynload',\n",
       " '',\n",
       " '/Users/jugirumu/anaconda2/envs/AthenaSumo/lib/python3.6/site-packages',\n",
       " '/Users/jugirumu/anaconda2/envs/AthenaSumo/lib/python3.6/site-packages/IPython/extensions',\n",
       " '/Users/jugirumu/.ipython',\n",
       " '/Users/jugirumu/Documents/Projects_Software/Athena/code/ATHENA-siem-sumo/Congestion_Policies']"
      ]
     },
     "execution_count": 4,
     "metadata": {},
     "output_type": "execute_result"
    }
   ],
   "source": [
    "sys.path"
   ]
  },
  {
   "cell_type": "code",
   "execution_count": 5,
   "metadata": {},
   "outputs": [
    {
     "ename": "ModuleNotFoundError",
     "evalue": "No module named 'Congestion_Policies'",
     "output_type": "error",
     "traceback": [
      "\u001b[0;31m---------------------------------------------------------------------------\u001b[0m",
      "\u001b[0;31mModuleNotFoundError\u001b[0m                       Traceback (most recent call last)",
      "\u001b[0;32m<ipython-input-5-088582f200c5>\u001b[0m in \u001b[0;36m<module>\u001b[0;34m\u001b[0m\n\u001b[0;32m----> 1\u001b[0;31m \u001b[0;32mfrom\u001b[0m \u001b[0mCongestion_Policies\u001b[0m\u001b[0;34m.\u001b[0m\u001b[0mMaster_Function\u001b[0m \u001b[0;32mimport\u001b[0m \u001b[0mmaster_function\u001b[0m\u001b[0;34m\u001b[0m\u001b[0;34m\u001b[0m\u001b[0m\n\u001b[0m",
      "\u001b[0;31mModuleNotFoundError\u001b[0m: No module named 'Congestion_Policies'"
     ]
    }
   ],
   "source": [
    "from Congestion_Policies.Master_Function import master_function"
   ]
  },
  {
   "cell_type": "code",
   "execution_count": null,
   "metadata": {},
   "outputs": [],
   "source": []
  }
 ],
 "metadata": {
  "@webio": {
   "lastCommId": null,
   "lastKernelId": null
  },
  "kernelspec": {
   "display_name": "Python [conda env:AthenaSumo]",
   "language": "python",
   "name": "conda-env-AthenaSumo-py"
  },
  "language_info": {
   "codemirror_mode": {
    "name": "ipython",
    "version": 3
   },
   "file_extension": ".py",
   "mimetype": "text/x-python",
   "name": "python",
   "nbconvert_exporter": "python",
   "pygments_lexer": "ipython3",
   "version": "3.6.8"
  }
 },
 "nbformat": 4,
 "nbformat_minor": 2
}
