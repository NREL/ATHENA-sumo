{
 "cells": [
  {
   "cell_type": "code",
   "execution_count": 1,
   "metadata": {},
   "outputs": [
    {
     "name": "stdout",
     "output_type": "stream",
     "text": [
      "Importing Jupyter notebook from Master_Function.ipynb\n"
     ]
    }
   ],
   "source": [
    "import xml.etree.ElementTree as ET\n",
    "from xml.etree.ElementTree import Element\n",
    "from lxml import etree\n",
    "import pandas as pd\n",
    "import nbimporter\n",
    "from Master_Function import master_function\n",
    "import numpy as np"
   ]
  },
  {
   "cell_type": "code",
   "execution_count": 2,
   "metadata": {},
   "outputs": [
    {
     "name": "stdout",
     "output_type": "stream",
     "text": [
      "Importing Jupyter notebook from Read_Trip_File.ipynb\n"
     ]
    }
   ],
   "source": [
    "from Read_Trip_File import num_trips_by_mode"
   ]
  },
  {
   "cell_type": "code",
   "execution_count": 3,
   "metadata": {},
   "outputs": [
    {
     "data": {
      "text/html": [
       "<div>\n",
       "<style scoped>\n",
       "    .dataframe tbody tr th:only-of-type {\n",
       "        vertical-align: middle;\n",
       "    }\n",
       "\n",
       "    .dataframe tbody tr th {\n",
       "        vertical-align: top;\n",
       "    }\n",
       "\n",
       "    .dataframe thead th {\n",
       "        text-align: right;\n",
       "    }\n",
       "</style>\n",
       "<table border=\"1\" class=\"dataframe\">\n",
       "  <thead>\n",
       "    <tr style=\"text-align: right;\">\n",
       "      <th></th>\n",
       "      <th>scheduled_fight_time</th>\n",
       "      <th>parking</th>\n",
       "      <th>pass</th>\n",
       "      <th>A</th>\n",
       "      <th>B</th>\n",
       "      <th>C</th>\n",
       "      <th>D</th>\n",
       "      <th>E</th>\n",
       "      <th>time</th>\n",
       "      <th>month</th>\n",
       "      <th>day</th>\n",
       "      <th>year</th>\n",
       "    </tr>\n",
       "  </thead>\n",
       "  <tbody>\n",
       "    <tr>\n",
       "      <th>0</th>\n",
       "      <td>2017-10-10 00:00:00</td>\n",
       "      <td>10</td>\n",
       "      <td>10</td>\n",
       "      <td>10</td>\n",
       "      <td>10</td>\n",
       "      <td>10</td>\n",
       "      <td>10</td>\n",
       "      <td>10</td>\n",
       "      <td>10</td>\n",
       "      <td>10</td>\n",
       "      <td>10</td>\n",
       "      <td>2017</td>\n",
       "    </tr>\n",
       "  </tbody>\n",
       "</table>\n",
       "</div>"
      ],
      "text/plain": [
       "  scheduled_fight_time  parking  pass   A   B   C   D   E  time  month  day  \\\n",
       "0  2017-10-10 00:00:00       10    10  10  10  10  10  10    10     10   10   \n",
       "\n",
       "   year  \n",
       "0  2017  "
      ]
     },
     "execution_count": 3,
     "metadata": {},
     "output_type": "execute_result"
    }
   ],
   "source": [
    "dwell_time = pd.read_csv(\"Dwell_Distributions.csv\")\n",
    "demand = pd.DataFrame()\n",
    "columns = ['scheduled_fight_time', 'parking', 'pass', 'A', 'B', 'C', 'D', 'E',\n",
    "       'time', 'month', 'day', 'year']\n",
    "for col in columns:\n",
    "    demand[col] = [10]\n",
    "demand['scheduled_fight_time'] = ['2017-10-10 00:00:00']\n",
    "demand['year'] = [2017]\n",
    "demand['month'] = [10]\n",
    "demand['day'] = [10]\n",
    "demand.head()"
   ]
  },
  {
   "cell_type": "markdown",
   "metadata": {},
   "source": [
    "# Test: 100% Drop Off\n",
    "For this test we are going to allocate 100% of the vehicles to be Dropoff patrons. We are just using person drop off\n",
    "\n",
    "We anticipate the following:\n",
    "- All vehicle trips are drop off and personal drop off\n",
    "- Pass thru vehicles will be conserved "
   ]
  },
  {
   "cell_type": "code",
   "execution_count": 4,
   "metadata": {},
   "outputs": [
    {
     "data": {
      "application/vnd.jupyter.widget-view+json": {
       "model_id": "ae3cfc4ceddd4f9b8eb03511c5d123a6",
       "version_major": 2,
       "version_minor": 0
      },
      "text/plain": [
       "HBox(children=(FloatProgress(value=0.0, max=1.0), HTML(value='')))"
      ]
     },
     "metadata": {},
     "output_type": "display_data"
    },
    {
     "name": "stdout",
     "output_type": "stream",
     "text": [
      "\n",
      "   Arrive_A  Depart_A  Arrive_B  Depart_B  Arrive_C  Depart_C  Arrive_D  \\\n",
      "0        12         0        12         0        12         0        12   \n",
      "\n",
      "   Depart_D  Arrive_E  Depart_E  Time  pass_thru  \n",
      "0         0        12         0    10       10.0  \n",
      "Generating Passenger  Demand\n",
      "================================================================================\n",
      "Saving to xml:  2017-10-10.TEST.passenger.curb.xml\n",
      "Generating Taxi Demand\n",
      "================================================================================\n",
      "Saving to xml:  2017-10-10.TEST.taxi.curb.xml\n",
      "Generating TNC Demand\n",
      "================================================================================\n",
      "Saving to xml:  2017-10-10.TEST.TNC.curb.xml\n",
      "Generating Limo Demand\n",
      "================================================================================\n",
      "Saving to xml:  2017-10-10.TEST.limo.curb.xml\n",
      "Generating Parking Demand\n",
      "================================================================================\n",
      "Saving to xml:  2017-10-10.TEST.parking.xml\n",
      "Saving to xml:  2017-10-10.TEST.MoreBuses.xml\n",
      "Generating Pass-Thru Demand\n",
      "================================================================================\n",
      "Saving to xml:  2017-10-10.TEST.passthru.xml\n",
      "36\n",
      "Combining:  ../Example_Files/TempDemandXML/2017-10-10.TEST.limo.curb.xml\n",
      "================================================================================\n",
      "Combining:  ../Example_Files/TempDemandXML/2017-10-10.TEST.MoreBuses.xml\n",
      "================================================================================\n",
      "Combining:  ../Example_Files/TempDemandXML/2017-10-10.TEST.parking.xml\n",
      "================================================================================\n",
      "Combining:  ../Example_Files/TempDemandXML/2017-10-10.TEST.passenger.curb.xml\n",
      "================================================================================\n",
      "Combining:  ../Example_Files/TempDemandXML/2017-10-10.TEST.passthru.xml\n",
      "================================================================================\n",
      "Combining:  ../Example_Files/TempDemandXML/2017-10-10.TEST.taxi.curb.xml\n",
      "================================================================================\n",
      "Combining:  ../Example_Files/TempDemandXML/2017-10-10.TEST.TNC.curb.xml\n",
      "================================================================================\n",
      "Combining:  ../Example_Files/TempDemandXML/Bus_Aug-15-19.xml\n",
      "================================================================================\n",
      "Combining:  ../Example_Files/TempDemandXML/SampleBus.xml\n",
      "================================================================================\n",
      "Saving to xml:  2017-10-10.TEST.trips.xml\n"
     ]
    }
   ],
   "source": [
    "master_function(demand=demand,\n",
    "            dwell_times=dwell_time,\n",
    "            Date='2017-10-10',\n",
    "            percentOfPassenger=1, \n",
    "            percentDropOff=1,\n",
    "            percentPickUp=0,\n",
    "            percentOfTNC=0,\n",
    "            percentOfTaxi=0,\n",
    "            percentOfTransit= 0,\n",
    "            percentOfParking= 0,\n",
    "            percentOfLimo= 0,\n",
    "            percentOfRental= 0,\n",
    "            Delete_Files = True,\n",
    "           level='TEST')"
   ]
  },
  {
   "cell_type": "code",
   "execution_count": 5,
   "metadata": {},
   "outputs": [],
   "source": [
    "#Name of trip file that was generated\n",
    "trip_file = '../Example_Files/TempInputTrips/2017-10-10.TEST.trips.xml'"
   ]
  },
  {
   "cell_type": "code",
   "execution_count": 6,
   "metadata": {},
   "outputs": [],
   "source": [
    "mode_strings = {0:'_passenger_',1:'_TNC_',2:'_Taxi_', 3:'Transit',\n",
    "                4:'_parking_',5:'_Limo_', 6:'Rental', 7:'pass_'}\n",
    "curb_trips = (demand['A'] + demand['B'] + demand['C'] + demand['D'] + demand['E'] + demand['parking']).values[0]\n",
    "all_trips = (demand['A'] + demand['B'] + demand['C'] + demand['D'] + demand['E'] + demand['parking'] + demand['pass']).values[0]"
   ]
  },
  {
   "cell_type": "code",
   "execution_count": 7,
   "metadata": {},
   "outputs": [
    {
     "name": "stdout",
     "output_type": "stream",
     "text": [
      "Arrive_  mode has:  60\n",
      "✓  all curb trips are drop off\n"
     ]
    }
   ],
   "source": [
    "num_trip_mode = num_trips_by_mode(trip_file, \"Arrive_\")\n",
    "assert num_trip_mode == curb_trips   # rental or transit do not have trips in the final trip file\n",
    "print(u'\\u2713',\" all curb trips are drop off\")"
   ]
  },
  {
   "cell_type": "code",
   "execution_count": 8,
   "metadata": {},
   "outputs": [
    {
     "name": "stdout",
     "output_type": "stream",
     "text": [
      "Finding number of trips for mode \n",
      "_passenger_  mode has:  60\n",
      "✓ _passenger_  is conserved\n",
      "Finding number of trips for mode \n",
      "_TNC_  mode has:  0\n",
      "✓ _TNC_  trips is zero\n",
      "Finding number of trips for mode \n",
      "_Taxi_  mode has:  0\n",
      "✓ _Taxi_  trips is zero\n",
      "Finding number of trips for mode \n",
      "Transit  mode has:  0\n",
      "✓ Transit  trips is zero\n",
      "Finding number of trips for mode \n",
      "_parking_  mode has:  0\n",
      "✓ _parking_  trips is zero\n",
      "Finding number of trips for mode \n",
      "_Limo_  mode has:  0\n",
      "✓ _Limo_  trips is zero\n",
      "Finding number of trips for mode \n",
      "Rental  mode has:  0\n",
      "✓ Rental  trips is zero\n",
      "Finding number of trips for mode \n",
      "pass_  mode has:  10\n",
      "✓ Pass through trips are conserved\n",
      "✓ Conservation is conserved\n"
     ]
    }
   ],
   "source": [
    "#calling function\n",
    "conservation = 0\n",
    "count = 0\n",
    "\n",
    "for index, mode in mode_strings.items():\n",
    "    print(\"Finding number of trips for mode \")\n",
    "    num_trip_mode = num_trips_by_mode(trip_file, mode)\n",
    "    \n",
    "    if mode =='_passenger_': \n",
    "        assert num_trip_mode == curb_trips\n",
    "        print(u'\\u2713', mode, \" is conserved\")\n",
    "    elif mode == 'pass_':\n",
    "        assert num_trip_mode == demand['pass'].values[0]\n",
    "        print(u'\\u2713',\"Pass through trips are conserved\")\n",
    "    else:\n",
    "        assert num_trip_mode == 0   # rental or transit do not have trips in the final trip file\n",
    "        print(u'\\u2713',mode, \" trips is zero\")\n",
    "        \n",
    "    conservation += num_trip_mode\n",
    "\n",
    "assert conservation == all_trips \n",
    "print(u'\\u2713',\"Conservation is conserved\")"
   ]
  },
  {
   "cell_type": "markdown",
   "metadata": {},
   "source": [
    "# Test: 100% Pick Up\n",
    "For this test we are going to allocate 100% of the vehicles to be Dropoff patrons. We are just using person drop off\n",
    "\n",
    "We anticipate the following:\n",
    "- All vehicle trips are drop off and personal drop off\n",
    "- Pass thru vehicles will be conserved "
   ]
  },
  {
   "cell_type": "code",
   "execution_count": 9,
   "metadata": {},
   "outputs": [
    {
     "data": {
      "application/vnd.jupyter.widget-view+json": {
       "model_id": "3c357fde98284d1dbf420b109b9838b5",
       "version_major": 2,
       "version_minor": 0
      },
      "text/plain": [
       "HBox(children=(FloatProgress(value=0.0, max=1.0), HTML(value='')))"
      ]
     },
     "metadata": {},
     "output_type": "display_data"
    },
    {
     "name": "stdout",
     "output_type": "stream",
     "text": [
      "\n",
      "   Arrive_A  Depart_A  Arrive_B  Depart_B  Arrive_C  Depart_C  Arrive_D  \\\n",
      "0         0        12         0        12         0        12         0   \n",
      "\n",
      "   Depart_D  Arrive_E  Depart_E  Time  pass_thru  \n",
      "0        12         0        12    10       10.0  \n",
      "Generating Passenger  Demand\n",
      "================================================================================\n",
      "Saving to xml:  2017-10-10.TEST.passenger.curb.xml\n",
      "Generating Taxi Demand\n",
      "================================================================================\n",
      "Saving to xml:  2017-10-10.TEST.taxi.curb.xml\n",
      "Generating TNC Demand\n",
      "================================================================================\n",
      "Saving to xml:  2017-10-10.TEST.TNC.curb.xml\n",
      "Generating Limo Demand\n",
      "================================================================================\n",
      "Saving to xml:  2017-10-10.TEST.limo.curb.xml\n",
      "Generating Parking Demand\n",
      "================================================================================\n",
      "Saving to xml:  2017-10-10.TEST.parking.xml\n",
      "Saving to xml:  2017-10-10.TEST.MoreBuses.xml\n",
      "Generating Pass-Thru Demand\n",
      "================================================================================\n",
      "Saving to xml:  2017-10-10.TEST.passthru.xml\n",
      "36\n",
      "Combining:  ../Example_Files/TempDemandXML/2017-10-10.TEST.limo.curb.xml\n",
      "================================================================================\n",
      "Combining:  ../Example_Files/TempDemandXML/2017-10-10.TEST.MoreBuses.xml\n",
      "================================================================================\n",
      "Combining:  ../Example_Files/TempDemandXML/2017-10-10.TEST.parking.xml\n",
      "================================================================================\n",
      "Combining:  ../Example_Files/TempDemandXML/2017-10-10.TEST.passenger.curb.xml\n",
      "================================================================================\n",
      "Combining:  ../Example_Files/TempDemandXML/2017-10-10.TEST.passthru.xml\n",
      "================================================================================\n",
      "Combining:  ../Example_Files/TempDemandXML/2017-10-10.TEST.taxi.curb.xml\n",
      "================================================================================\n",
      "Combining:  ../Example_Files/TempDemandXML/2017-10-10.TEST.TNC.curb.xml\n",
      "================================================================================\n",
      "Combining:  ../Example_Files/TempDemandXML/Bus_Aug-15-19.xml\n",
      "================================================================================\n",
      "Combining:  ../Example_Files/TempDemandXML/SampleBus.xml\n",
      "================================================================================\n",
      "Saving to xml:  2017-10-10.TEST.trips.xml\n"
     ]
    }
   ],
   "source": [
    "master_function(demand=demand,\n",
    "            dwell_times=dwell_time,\n",
    "            Date='2017-10-10',\n",
    "            percentOfPassenger=1, \n",
    "            percentDropOff=0,\n",
    "            percentPickUp=1,\n",
    "            percentOfTNC=0,\n",
    "            percentOfTaxi=0,\n",
    "            percentOfTransit= 0,\n",
    "            percentOfParking= 0,\n",
    "            percentOfLimo= 0,\n",
    "            percentOfRental= 0,\n",
    "            Delete_Files = True,\n",
    "           level='TEST')"
   ]
  },
  {
   "cell_type": "code",
   "execution_count": 10,
   "metadata": {},
   "outputs": [
    {
     "name": "stdout",
     "output_type": "stream",
     "text": [
      "Depart_  mode has:  60\n",
      "✓  all curb trips are pick up\n"
     ]
    }
   ],
   "source": [
    "num_trip_mode = num_trips_by_mode(trip_file, \"Depart_\")\n",
    "assert num_trip_mode == curb_trips   # rental or transit do not have trips in the final trip file\n",
    "print(u'\\u2713',\" all curb trips are pick up\")"
   ]
  },
  {
   "cell_type": "code",
   "execution_count": 11,
   "metadata": {},
   "outputs": [
    {
     "name": "stdout",
     "output_type": "stream",
     "text": [
      "Finding number of trips for mode \n",
      "_passenger_  mode has:  60\n",
      "✓ _passenger_  is conserved\n",
      "Finding number of trips for mode \n",
      "_TNC_  mode has:  0\n",
      "✓ _TNC_  trips is zero\n",
      "Finding number of trips for mode \n",
      "_Taxi_  mode has:  0\n",
      "✓ _Taxi_  trips is zero\n",
      "Finding number of trips for mode \n",
      "Transit  mode has:  0\n",
      "✓ Transit  trips is zero\n",
      "Finding number of trips for mode \n",
      "_parking_  mode has:  0\n",
      "✓ _parking_  trips is zero\n",
      "Finding number of trips for mode \n",
      "_Limo_  mode has:  0\n",
      "✓ _Limo_  trips is zero\n",
      "Finding number of trips for mode \n",
      "Rental  mode has:  0\n",
      "✓ Rental  trips is zero\n",
      "Finding number of trips for mode \n",
      "pass_  mode has:  10\n",
      "✓ Pass through trips are conserved\n",
      "✓ Conservation is conserved\n"
     ]
    }
   ],
   "source": [
    "#calling function\n",
    "conservation = 0\n",
    "count = 0\n",
    "\n",
    "for index, mode in mode_strings.items():\n",
    "    print(\"Finding number of trips for mode \")\n",
    "    num_trip_mode = num_trips_by_mode(trip_file, mode)\n",
    "    \n",
    "    if mode =='_passenger_': \n",
    "        assert num_trip_mode == curb_trips\n",
    "        print(u'\\u2713', mode, \" is conserved\")\n",
    "    elif mode == 'pass_':\n",
    "        assert num_trip_mode == demand['pass'].values[0]\n",
    "        print(u'\\u2713',\"Pass through trips are conserved\")\n",
    "    else:\n",
    "        assert num_trip_mode == 0   # rental or transit do not have trips in the final trip file\n",
    "        print(u'\\u2713',mode, \" trips is zero\")\n",
    "        \n",
    "    conservation += num_trip_mode\n",
    "\n",
    "assert conservation == all_trips \n",
    "print(u'\\u2713',\"Conservation is conserved\")"
   ]
  },
  {
   "cell_type": "markdown",
   "metadata": {},
   "source": [
    "# Test: 50% Pick Up and 50% Drop Off\n",
    "For this test we are going to allocate 100% of the vehicles to be Dropoff patrons. We are just using person drop off\n",
    "\n",
    "We anticipate the following:\n",
    "- All vehicle trips are drop off and personal drop off\n",
    "- Pass thru vehicles will be conserved "
   ]
  },
  {
   "cell_type": "code",
   "execution_count": 12,
   "metadata": {},
   "outputs": [],
   "source": [
    "percent_drop = 0.5\n",
    "percent_pick = 0.5"
   ]
  },
  {
   "cell_type": "code",
   "execution_count": 13,
   "metadata": {},
   "outputs": [
    {
     "data": {
      "application/vnd.jupyter.widget-view+json": {
       "model_id": "e77bc1300fd240cbbeda6f8a9546590c",
       "version_major": 2,
       "version_minor": 0
      },
      "text/plain": [
       "HBox(children=(FloatProgress(value=0.0, max=1.0), HTML(value='')))"
      ]
     },
     "metadata": {},
     "output_type": "display_data"
    },
    {
     "name": "stdout",
     "output_type": "stream",
     "text": [
      "\n",
      "   Arrive_A  Depart_A  Arrive_B  Depart_B  Arrive_C  Depart_C  Arrive_D  \\\n",
      "0         6         6         6         6         6         6         6   \n",
      "\n",
      "   Depart_D  Arrive_E  Depart_E  Time  pass_thru  \n",
      "0         6         6         6    10       10.0  \n",
      "Generating Passenger  Demand\n",
      "================================================================================\n",
      "Saving to xml:  2017-10-10.TEST.passenger.curb.xml\n",
      "Generating Taxi Demand\n",
      "================================================================================\n",
      "Saving to xml:  2017-10-10.TEST.taxi.curb.xml\n",
      "Generating TNC Demand\n",
      "================================================================================\n",
      "Saving to xml:  2017-10-10.TEST.TNC.curb.xml\n",
      "Generating Limo Demand\n",
      "================================================================================\n",
      "Saving to xml:  2017-10-10.TEST.limo.curb.xml\n",
      "Generating Parking Demand\n",
      "================================================================================\n",
      "Saving to xml:  2017-10-10.TEST.parking.xml\n",
      "Saving to xml:  2017-10-10.TEST.MoreBuses.xml\n",
      "Generating Pass-Thru Demand\n",
      "================================================================================\n",
      "Saving to xml:  2017-10-10.TEST.passthru.xml\n",
      "36\n",
      "Combining:  ../Example_Files/TempDemandXML/2017-10-10.TEST.limo.curb.xml\n",
      "================================================================================\n",
      "Combining:  ../Example_Files/TempDemandXML/2017-10-10.TEST.MoreBuses.xml\n",
      "================================================================================\n",
      "Combining:  ../Example_Files/TempDemandXML/2017-10-10.TEST.parking.xml\n",
      "================================================================================\n",
      "Combining:  ../Example_Files/TempDemandXML/2017-10-10.TEST.passenger.curb.xml\n",
      "================================================================================\n",
      "Combining:  ../Example_Files/TempDemandXML/2017-10-10.TEST.passthru.xml\n",
      "================================================================================\n",
      "Combining:  ../Example_Files/TempDemandXML/2017-10-10.TEST.taxi.curb.xml\n",
      "================================================================================\n",
      "Combining:  ../Example_Files/TempDemandXML/2017-10-10.TEST.TNC.curb.xml\n",
      "================================================================================\n",
      "Combining:  ../Example_Files/TempDemandXML/Bus_Aug-15-19.xml\n",
      "================================================================================\n",
      "Combining:  ../Example_Files/TempDemandXML/SampleBus.xml\n",
      "================================================================================\n",
      "Saving to xml:  2017-10-10.TEST.trips.xml\n"
     ]
    }
   ],
   "source": [
    "master_function(demand=demand,\n",
    "            dwell_times=dwell_time,\n",
    "            Date='2017-10-10',\n",
    "            percentOfPassenger=1, \n",
    "            percentDropOff=percent_drop,\n",
    "            percentPickUp=percent_pick,\n",
    "            percentOfTNC=0,\n",
    "            percentOfTaxi=0,\n",
    "            percentOfTransit= 0,\n",
    "            percentOfParking= 0,\n",
    "            percentOfLimo= 0,\n",
    "            percentOfRental= 0,\n",
    "            Delete_Files = True,\n",
    "           level='TEST')"
   ]
  },
  {
   "cell_type": "code",
   "execution_count": 14,
   "metadata": {},
   "outputs": [
    {
     "name": "stdout",
     "output_type": "stream",
     "text": [
      "Depart_  mode has:  30\n",
      "✓  50% of curb trips are drop off\n",
      "Arrive_  mode has:  30\n",
      "✓  50% of curb trips are pick up\n"
     ]
    }
   ],
   "source": [
    "num_trip_mode = num_trips_by_mode(trip_file, \"Depart_\")\n",
    "assert num_trip_mode == curb_trips*percent_drop   # rental or transit do not have trips in the final trip file\n",
    "print(u'\\u2713',\" 50% of curb trips are drop off\")\n",
    "\n",
    "num_trip_mode = num_trips_by_mode(trip_file, \"Arrive_\")\n",
    "assert num_trip_mode == curb_trips*percent_pick   # rental or transit do not have trips in the final trip file\n",
    "print(u'\\u2713',\" 50% of curb trips are pick up\")"
   ]
  },
  {
   "cell_type": "code",
   "execution_count": 15,
   "metadata": {},
   "outputs": [
    {
     "name": "stdout",
     "output_type": "stream",
     "text": [
      "Finding number of trips for mode \n",
      "_passenger_  mode has:  60\n",
      "✓ _passenger_  is conserved\n",
      "Finding number of trips for mode \n",
      "_TNC_  mode has:  0\n",
      "✓ _TNC_  trips is zero\n",
      "Finding number of trips for mode \n",
      "_Taxi_  mode has:  0\n",
      "✓ _Taxi_  trips is zero\n",
      "Finding number of trips for mode \n",
      "Transit  mode has:  0\n",
      "✓ Transit  trips is zero\n",
      "Finding number of trips for mode \n",
      "_parking_  mode has:  0\n",
      "✓ _parking_  trips is zero\n",
      "Finding number of trips for mode \n",
      "_Limo_  mode has:  0\n",
      "✓ _Limo_  trips is zero\n",
      "Finding number of trips for mode \n",
      "Rental  mode has:  0\n",
      "✓ Rental  trips is zero\n",
      "Finding number of trips for mode \n",
      "pass_  mode has:  10\n",
      "✓ Pass through trips are conserved\n",
      "✓ Conservation is conserved\n"
     ]
    }
   ],
   "source": [
    "#calling function\n",
    "conservation = 0\n",
    "count = 0\n",
    "\n",
    "for index, mode in mode_strings.items():\n",
    "    print(\"Finding number of trips for mode \")\n",
    "    num_trip_mode = num_trips_by_mode(trip_file, mode)\n",
    "    \n",
    "    if mode =='_passenger_': \n",
    "        assert num_trip_mode == curb_trips\n",
    "        print(u'\\u2713', mode, \" is conserved\")\n",
    "    elif mode == 'pass_':\n",
    "        assert num_trip_mode == demand['pass'].values[0]\n",
    "        print(u'\\u2713',\"Pass through trips are conserved\")\n",
    "    else:\n",
    "        assert num_trip_mode == 0   # rental or transit do not have trips in the final trip file\n",
    "        print(u'\\u2713',mode, \" trips is zero\")\n",
    "        \n",
    "    conservation += num_trip_mode\n",
    "\n",
    "assert conservation == all_trips \n",
    "print(u'\\u2713',\"Conservation is conserved\")"
   ]
  },
  {
   "cell_type": "markdown",
   "metadata": {},
   "source": [
    "# Test: 30% Pick Up and 70% Drop Off\n",
    "For this test we are going to allocate 50% of the vehicles to be Dropoff patrons and 50% to pick up. We are just using person drop off\n",
    "\n",
    "We anticipate the following:\n",
    "- All vehicle trips are drop off and personal drop off\n",
    "- Pass thru vehicles will be conserved "
   ]
  },
  {
   "cell_type": "code",
   "execution_count": 16,
   "metadata": {},
   "outputs": [],
   "source": [
    "percent_drop = 0.7\n",
    "percent_pick = 0.3"
   ]
  },
  {
   "cell_type": "code",
   "execution_count": 17,
   "metadata": {},
   "outputs": [
    {
     "data": {
      "application/vnd.jupyter.widget-view+json": {
       "model_id": "3c0b20eb5d7f4dbf81d3c8b2cabf4f01",
       "version_major": 2,
       "version_minor": 0
      },
      "text/plain": [
       "HBox(children=(FloatProgress(value=0.0, max=1.0), HTML(value='')))"
      ]
     },
     "metadata": {},
     "output_type": "display_data"
    },
    {
     "name": "stdout",
     "output_type": "stream",
     "text": [
      "\n",
      "   Arrive_A  Depart_A  Arrive_B  Depart_B  Arrive_C  Depart_C  Arrive_D  \\\n",
      "0         8         4         8         4         8         4         8   \n",
      "\n",
      "   Depart_D  Arrive_E  Depart_E  Time  pass_thru  \n",
      "0         4         8         4    10       10.0  \n",
      "Generating Passenger  Demand\n",
      "================================================================================\n",
      "Saving to xml:  2017-10-10.TEST.passenger.curb.xml\n",
      "Generating Taxi Demand\n",
      "================================================================================\n",
      "Saving to xml:  2017-10-10.TEST.taxi.curb.xml\n",
      "Generating TNC Demand\n",
      "================================================================================\n",
      "Saving to xml:  2017-10-10.TEST.TNC.curb.xml\n",
      "Generating Limo Demand\n",
      "================================================================================\n",
      "Saving to xml:  2017-10-10.TEST.limo.curb.xml\n",
      "Generating Parking Demand\n",
      "================================================================================\n",
      "Saving to xml:  2017-10-10.TEST.parking.xml\n",
      "Saving to xml:  2017-10-10.TEST.MoreBuses.xml\n",
      "Generating Pass-Thru Demand\n",
      "================================================================================\n",
      "Saving to xml:  2017-10-10.TEST.passthru.xml\n",
      "36\n",
      "Combining:  ../Example_Files/TempDemandXML/2017-10-10.TEST.limo.curb.xml\n",
      "================================================================================\n",
      "Combining:  ../Example_Files/TempDemandXML/2017-10-10.TEST.MoreBuses.xml\n",
      "================================================================================\n",
      "Combining:  ../Example_Files/TempDemandXML/2017-10-10.TEST.parking.xml\n",
      "================================================================================\n",
      "Combining:  ../Example_Files/TempDemandXML/2017-10-10.TEST.passenger.curb.xml\n",
      "================================================================================\n",
      "Combining:  ../Example_Files/TempDemandXML/2017-10-10.TEST.passthru.xml\n",
      "================================================================================\n",
      "Combining:  ../Example_Files/TempDemandXML/2017-10-10.TEST.taxi.curb.xml\n",
      "================================================================================\n",
      "Combining:  ../Example_Files/TempDemandXML/2017-10-10.TEST.TNC.curb.xml\n",
      "================================================================================\n",
      "Combining:  ../Example_Files/TempDemandXML/Bus_Aug-15-19.xml\n",
      "================================================================================\n",
      "Combining:  ../Example_Files/TempDemandXML/SampleBus.xml\n",
      "================================================================================\n",
      "Saving to xml:  2017-10-10.TEST.trips.xml\n"
     ]
    }
   ],
   "source": [
    "master_function(demand=demand,\n",
    "            dwell_times=dwell_time,\n",
    "            Date='2017-10-10',\n",
    "            percentOfPassenger=1, \n",
    "            percentDropOff=percent_drop,\n",
    "            percentPickUp=percent_pick,\n",
    "            percentOfTNC=0,\n",
    "            percentOfTaxi=0,\n",
    "            percentOfTransit= 0,\n",
    "            percentOfParking= 0,\n",
    "            percentOfLimo= 0,\n",
    "            percentOfRental= 0,\n",
    "            Delete_Files = True,\n",
    "           level='TEST')"
   ]
  },
  {
   "cell_type": "code",
   "execution_count": 18,
   "metadata": {},
   "outputs": [
    {
     "data": {
      "text/plain": [
       "60"
      ]
     },
     "execution_count": 18,
     "metadata": {},
     "output_type": "execute_result"
    }
   ],
   "source": [
    "curb_trips"
   ]
  },
  {
   "cell_type": "code",
   "execution_count": 19,
   "metadata": {},
   "outputs": [
    {
     "name": "stdout",
     "output_type": "stream",
     "text": [
      "Depart  mode has:  20\n"
     ]
    },
    {
     "ename": "AssertionError",
     "evalue": "",
     "output_type": "error",
     "traceback": [
      "\u001b[0;31m---------------------------------------------------------------------------\u001b[0m",
      "\u001b[0;31mAssertionError\u001b[0m                            Traceback (most recent call last)",
      "\u001b[0;32m<ipython-input-19-b93bcae8f39e>\u001b[0m in \u001b[0;36m<module>\u001b[0;34m\u001b[0m\n\u001b[1;32m      1\u001b[0m \u001b[0mnum_trip_mode\u001b[0m \u001b[0;34m=\u001b[0m \u001b[0mnum_trips_by_mode\u001b[0m\u001b[0;34m(\u001b[0m\u001b[0mtrip_file\u001b[0m\u001b[0;34m,\u001b[0m \u001b[0;34m\"Depart\"\u001b[0m\u001b[0;34m)\u001b[0m\u001b[0;34m\u001b[0m\u001b[0;34m\u001b[0m\u001b[0m\n\u001b[0;32m----> 2\u001b[0;31m \u001b[0;32massert\u001b[0m \u001b[0mnum_trip_mode\u001b[0m \u001b[0;34m==\u001b[0m \u001b[0mcurb_trips\u001b[0m\u001b[0;34m*\u001b[0m\u001b[0mpercent_drop\u001b[0m   \u001b[0;31m# rental or transit do not have trips in the final trip file\u001b[0m\u001b[0;34m\u001b[0m\u001b[0;34m\u001b[0m\u001b[0m\n\u001b[0m\u001b[1;32m      3\u001b[0m \u001b[0mprint\u001b[0m\u001b[0;34m(\u001b[0m\u001b[0;34mu'\\u2713'\u001b[0m\u001b[0;34m,\u001b[0m\u001b[0;34m\" 70% of curb trips are drop off\"\u001b[0m\u001b[0;34m)\u001b[0m\u001b[0;34m\u001b[0m\u001b[0;34m\u001b[0m\u001b[0m\n",
      "\u001b[0;31mAssertionError\u001b[0m: "
     ]
    }
   ],
   "source": [
    "num_trip_mode = num_trips_by_mode(trip_file, \"Depart\")\n",
    "assert num_trip_mode == curb_trips*percent_drop   # rental or transit do not have trips in the final trip file\n",
    "print(u'\\u2713',\" 70% of curb trips are drop off\")"
   ]
  },
  {
   "cell_type": "code",
   "execution_count": null,
   "metadata": {},
   "outputs": [],
   "source": []
  }
 ],
 "metadata": {
  "@webio": {
   "lastCommId": null,
   "lastKernelId": null
  },
  "kernelspec": {
   "display_name": "Python [conda env:AthenaSumo]",
   "language": "python",
   "name": "conda-env-AthenaSumo-py"
  },
  "language_info": {
   "codemirror_mode": {
    "name": "ipython",
    "version": 3
   },
   "file_extension": ".py",
   "mimetype": "text/x-python",
   "name": "python",
   "nbconvert_exporter": "python",
   "pygments_lexer": "ipython3",
   "version": "3.6.8"
  }
 },
 "nbformat": 4,
 "nbformat_minor": 2
}
