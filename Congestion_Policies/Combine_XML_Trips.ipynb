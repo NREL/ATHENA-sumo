{
 "cells": [
  {
   "cell_type": "markdown",
   "metadata": {},
   "source": [
    "# COMBINE XML FILES\n",
    "\n",
    "Combines all the XML demand files and orders them in sequential order for one Demand file. \n",
    "\n",
    "```python\n",
    "def combineTrips(fileOutput,\n",
    "                 trips=glob.glob(\"../Example_Files/TempDemandXML/*.xml\"),\n",
    "                 folderOutput = \"../Example_Files/TempInputTrips\"\n",
    "                ):   \n",
    "```\n",
    "\n",
    "> - **fileOutput:** *String* - name of output file you would like \n",
    "> - **trips** *Array* - list or array of files to combine\n",
    "> - **folderOutput** *String* - where to hold the combine XML file\n",
    "\n",
    "\n"
   ]
  },
  {
   "cell_type": "code",
   "execution_count": 24,
   "metadata": {},
   "outputs": [],
   "source": [
    "from __future__ import print_function\n",
    "import xml.etree.ElementTree as ET\n",
    "from xml.etree.ElementTree import Element, SubElement, Comment\n",
    "from lxml import etree\n",
    "from copy import copy\n",
    "import os\n",
    "import inspect\n",
    "from xml.dom import minidom\n",
    "import pandas as pd\n",
    "import numpy as np\n",
    "import random\n",
    "import matplotlib.pyplot as plt\n",
    "import seaborn as sns\n",
    "import sys\n",
    "from datetime import datetime\n",
    "sys.path.insert(0, os.path.abspath('../Generate_SUMO_demand/'))\n",
    "import DFW_gen_flow as gf\n",
    "import glob"
   ]
  },
  {
   "cell_type": "code",
   "execution_count": 25,
   "metadata": {},
   "outputs": [],
   "source": [
    "def combineTrips(fileOutput,\n",
    "                 trips=glob.glob(\"../Example_Files/TempDemandXML/*.xml\"),\n",
    "                 folderOutput = \"../Example_Files/TempInputTrips\"\n",
    "                ):\n",
    "    xroutes = Element('routes')\n",
    "    xroutes.set('xmlns:xsi','http://www.w3.org/2001/XMLSchema-instance')\n",
    "    xroutes.set('xsi:noNamespaceSchemaLocation', 'http://sumo.dlr.de/xsd/routes_file.xsd')\n",
    "    trip_list = []\n",
    "    for trip in trips:\n",
    "        path_file = os.path.join(trip)\n",
    "        root_tree = ET.parse(path_file).getroot()\n",
    "        trip_list.extend(root_tree)\n",
    "    trip_list[:] = sorted(trip_list, key=lambda child: (child.tag,float(child.get('depart'))))\n",
    "    \n",
    "    xroutes.extend(trip_list)\n",
    "\n",
    "    \n",
    "    print(\"Saving to xml: \", fileOutput)\n",
    "    configfile = os.path.join(folderOutput,fileOutput)\n",
    "    with open(configfile, 'wb') as f:\n",
    "        f.write(minidom.parseString(ET.tostring(xroutes)).toprettyxml(encoding=\"utf-8\"))\n",
    "        "
   ]
  },
  {
   "cell_type": "code",
   "execution_count": 26,
   "metadata": {},
   "outputs": [],
   "source": [
    "Date = '2018-5-13'\n",
    "folder = \"../Example_Files/Demand_CSV\"\n",
    "selected = pd.read_csv(\"selected_demand.csv\")\n",
    "level = selected.loc[selected['Date'] == Date]['Volume_Category'].item()\n",
    "file_name = Date + '.' + level +\".trips.xml\"\n"
   ]
  },
  {
   "cell_type": "code",
   "execution_count": 27,
   "metadata": {},
   "outputs": [
    {
     "name": "stdout",
     "output_type": "stream",
     "text": [
      "Saving to xml:  2018-5-13.high.trips.xml\n"
     ]
    }
   ],
   "source": [
    "combineTrips(file_name)"
   ]
  },
  {
   "cell_type": "code",
   "execution_count": null,
   "metadata": {},
   "outputs": [],
   "source": []
  }
 ],
 "metadata": {
  "kernelspec": {
   "display_name": "Python 3",
   "language": "python",
   "name": "python3"
  },
  "language_info": {
   "codemirror_mode": {
    "name": "ipython",
    "version": 3
   },
   "file_extension": ".py",
   "mimetype": "text/x-python",
   "name": "python",
   "nbconvert_exporter": "python",
   "pygments_lexer": "ipython3",
   "version": "3.6.8"
  }
 },
 "nbformat": 4,
 "nbformat_minor": 2
}
