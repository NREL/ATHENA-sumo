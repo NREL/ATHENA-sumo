{
 "cells": [
  {
   "cell_type": "code",
   "execution_count": 24,
   "metadata": {},
   "outputs": [],
   "source": [
    "import xml.etree.ElementTree as ET\n",
    "from xml.etree.ElementTree import Element, SubElement, Comment\n",
    "from lxml import etree\n",
    "from copy import copy\n",
    "import os\n",
    "from xml.dom import minidom\n",
    "import pandas as pd\n",
    "import numpy as np\n",
    "import sys\n",
    "import datetime"
   ]
  },
  {
   "cell_type": "markdown",
   "metadata": {},
   "source": [
    "# Get Unique Stop IDs"
   ]
  },
  {
   "cell_type": "code",
   "execution_count": 20,
   "metadata": {},
   "outputs": [],
   "source": [
    "def get_unique_stops(trip_file):  \n",
    "    '''\n",
    "    This function takes a relative or explicit path to your trip file and returns only the unique stop location \n",
    "    names to be used to geneerate your additional file.\n",
    "    '''\n",
    "    unique_stops = set()\n",
    "    tree = etree.parse(trip_file)\n",
    "    root = tree.getroot()\n",
    "    for trip in root.findall('trip'):\n",
    "        stop = trip.find('stop')\n",
    "        if stop != None:\n",
    "            unique_stops.add(stop.attrib['busStop'])\n",
    "    return unique_stops\n",
    "\n",
    "\n"
   ]
  },
  {
   "cell_type": "markdown",
   "metadata": {},
   "source": [
    "# Build Additonal File With Unique IDs"
   ]
  },
  {
   "cell_type": "code",
   "execution_count": 30,
   "metadata": {},
   "outputs": [],
   "source": [
    "def build_additional_file(unique_stops):\n",
    "    '''\n",
    "    Takes in unique stop IDs and builds out everything you'll need for your additional file and guarantees \n",
    "    all stop IDs are generated. Adds both vehicle types and their respective parameters along with vehicle stops.\n",
    "    '''\n",
    "    additional = Element('additional')\n",
    "    additional.set('xmlns:xsi','http://www.w3.org/2001/XMLSchema-instance')\n",
    "    additional.set('xsi:noNamespaceSchemaLocation', 'http://sumo.dlr.de/xsd/routes_file.xsd')\n",
    "    vTypes = ['truck','trailer','bus','passenger']\n",
    "    sigma = .13\n",
    "    for veh in vTypes:\n",
    "        \n",
    "        vType = Element('vType')\n",
    "        vType.set('id', veh)\n",
    "        vType.set('vClass', veh)\n",
    "        vType.set('sigma', str(sigma))\n",
    "        if veh == 'passenger':\n",
    "            vType.set('accel',str(10))\n",
    "            vType.set('decel',str(10))\n",
    "            vType.set('length',str(7))\n",
    "        additional.append(vType)\n",
    "        \n",
    "    for stop in unique_stops:\n",
    "        lane = stop + \"_0\"\n",
    "        busStop = Element('busStop')\n",
    "        busStop.set('endPos', \"-1\")\n",
    "        busStop.set('friendlyPos', \"1\")\n",
    "        busStop.set('id', stop)\n",
    "        busStop.set('lane', lane)\n",
    "        busStop.set('lines', str(1))\n",
    "        busStop.set('startPos', str(0))\n",
    "        additional.append(busStop)\n",
    "    Date = str(datetime.datetime.today()).split()[0]\n",
    "    file_name = Date + \".additional.xml\"\n",
    "    folder = \"../Example_Files/SUMO_Input_Files\"\n",
    "        \n",
    "    with open(os.path.join(folder,file_name), 'wb') as f:\n",
    "        f.write(minidom.parseString(ET.tostring(additional)).toprettyxml(encoding=\"utf-8\"))\n",
    "    print(\"your file named: \", file_name, \" is located in: \",folder)"
   ]
  },
  {
   "cell_type": "markdown",
   "metadata": {},
   "source": [
    "# Main Function"
   ]
  },
  {
   "cell_type": "code",
   "execution_count": 31,
   "metadata": {},
   "outputs": [],
   "source": [
    "def main(trip_file):\n",
    "    unique_stops = get_unique_stops(trip_file)\n",
    "    build_additional_file(unique_stops)"
   ]
  },
  {
   "cell_type": "markdown",
   "metadata": {},
   "source": [
    "# Run Code"
   ]
  },
  {
   "cell_type": "code",
   "execution_count": 32,
   "metadata": {},
   "outputs": [
    {
     "name": "stdout",
     "output_type": "stream",
     "text": [
      "your file named:  2020-04-09.additional.xml  is located in:  ../Example_Files/SUMO_Input_Files\n"
     ]
    }
   ],
   "source": [
    "# this is what geenerate in your master function\n",
    "path_to_trip_file = \"../Example_Files/TempInputTrips/2018-4-23.Scaled34%.trips.xml\" \n",
    "main(path_to_trip_file)"
   ]
  },
  {
   "cell_type": "code",
   "execution_count": null,
   "metadata": {},
   "outputs": [],
   "source": []
  }
 ],
 "metadata": {
  "kernelspec": {
   "display_name": "Python 3",
   "language": "python",
   "name": "python3"
  },
  "language_info": {
   "codemirror_mode": {
    "name": "ipython",
    "version": 3
   },
   "file_extension": ".py",
   "mimetype": "text/x-python",
   "name": "python",
   "nbconvert_exporter": "python",
   "pygments_lexer": "ipython3",
   "version": "3.6.8"
  }
 },
 "nbformat": 4,
 "nbformat_minor": 2
}
