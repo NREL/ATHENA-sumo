{
 "cells": [
  {
   "cell_type": "markdown",
   "metadata": {},
   "source": [
    "## This notebooks reads trips files created by the Master function for validating the correctness of the trip file created"
   ]
  },
  {
   "cell_type": "code",
   "execution_count": 1,
   "metadata": {},
   "outputs": [],
   "source": [
    "import xml.etree.ElementTree as ET\n",
    "from xml.etree.ElementTree import Element\n",
    "from lxml import etree\n",
    "import pandas as pd"
   ]
  },
  {
   "cell_type": "markdown",
   "metadata": {},
   "source": [
    "## Create Function that retuns number of trips containing specified substring\n",
    "```\n",
    "trip_file: name of xml trip file\n",
    "mode_string: string identifying travel mode choice trips (Ex: \"_TNC_\" for TNC trips)\n",
    "```"
   ]
  },
  {
   "cell_type": "code",
   "execution_count": 2,
   "metadata": {},
   "outputs": [],
   "source": [
    "def num_trips_by_mode(trip_file, mode_string): # Assumes we get full path as trip_file variable\n",
    "    #Read trip file and pa\n",
    "    path_to_trip_file = trip_file\n",
    "    trip_tree = etree.parse(path_to_trip_file)  # parse the trip xml file\n",
    "    mode_trips = trip_tree.xpath('//trip[contains(@id,\"%s\")]' % mode_string)\n",
    "    num_trips = len(mode_trips)\n",
    "    print(mode_string, \" mode has: \", num_trips)\n",
    "    return num_trips\n",
    "    "
   ]
  },
  {
   "cell_type": "markdown",
   "metadata": {},
   "source": [
    "### Example using the function"
   ]
  },
  {
   "cell_type": "code",
   "execution_count": 9,
   "metadata": {},
   "outputs": [],
   "source": [
    "#Name of trip file\n",
    "trip_file = '../Example_Files/TempInputTrips/2018-6-11.high.trips.xml'"
   ]
  },
  {
   "cell_type": "code",
   "execution_count": 10,
   "metadata": {},
   "outputs": [],
   "source": [
    "# mode to extract\n",
    "mode_string = '_parking_' "
   ]
  },
  {
   "cell_type": "code",
   "execution_count": 11,
   "metadata": {},
   "outputs": [
    {
     "name": "stdout",
     "output_type": "stream",
     "text": [
      "_parking_  mode has:  17165\n"
     ]
    }
   ],
   "source": [
    "#calling function\n",
    "num_trip_mode = num_trips_by_mode(trip_file, mode_string)"
   ]
  },
  {
   "cell_type": "code",
   "execution_count": null,
   "metadata": {},
   "outputs": [],
   "source": []
  },
  {
   "cell_type": "code",
   "execution_count": null,
   "metadata": {},
   "outputs": [],
   "source": []
  },
  {
   "cell_type": "code",
   "execution_count": null,
   "metadata": {},
   "outputs": [],
   "source": []
  }
 ],
 "metadata": {
  "@webio": {
   "lastCommId": null,
   "lastKernelId": null
  },
  "kernelspec": {
   "display_name": "Python [conda env:AthenaSumo]",
   "language": "python",
   "name": "conda-env-AthenaSumo-py"
  },
  "language_info": {
   "codemirror_mode": {
    "name": "ipython",
    "version": 3
   },
   "file_extension": ".py",
   "mimetype": "text/x-python",
   "name": "python",
   "nbconvert_exporter": "python",
   "pygments_lexer": "ipython3",
   "version": "3.6.8"
  }
 },
 "nbformat": 4,
 "nbformat_minor": 2
}
